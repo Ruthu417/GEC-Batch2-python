{
 "cells": [
  {
   "cell_type": "markdown",
   "id": "7d9eacb7",
   "metadata": {},
   "source": [
    "# Mohan\n",
    "## Abhishek\n",
    "### Revanth\n",
    "#### Bhanu\n",
    "##### Harshitha\n",
    "##### Sumanth"
   ]
  },
  {
   "cell_type": "markdown",
   "id": "9aed1b3d",
   "metadata": {},
   "source": [
    "### Font Styles\n",
    "- plain text\n",
    "1. I am *Sirisha*\n",
    "2. Pursuing **IInd B.Tech- ECE** in GEC.\n",
    "3. I am ***Indian***\n",
    "* I am from Guntur"
   ]
  },
  {
   "cell_type": "markdown",
   "id": "9cd92e8f",
   "metadata": {},
   "source": [
    "### What is python ?\n",
    "1. Python is a general purpose,high level and interpreted programming language\n",
    "\t- used for multiple purposes\n",
    "\t- scientific computation,development()\n",
    "\t- user understandable lang\n",
    "\t- It gives us the \n",
    "\t- line by line execution\n",
    "2. It is semi object oriented lang\n",
    "3. It is dynamically typed lang\n",
    "4. It requires no prior knowledge of programming\n",
    "5. It is syntax free language\n",
    "6. Seems to be English lang\n",
    "7. it is both case sensitive and space sensitive\n",
    "8. Simple to code and easy to learn\n",
    "\n",
    "##### platform independent language\n",
    "\t1. Command Prompt(cmd)\n",
    "\t2. Python IDLE\n",
    "\t(Integrated Development and Learning Environment)\n",
    "\t3. Py charm\n",
    "\t4. Geany\n",
    "\t5. Anaconda\n",
    "**-------- Mobile Applications----**<br>\n",
    "\t1. Pydroid3(mbl app)\n",
    "\n",
    "###### python official website\n",
    "\tpython.org\n",
    "\tnew version of python is 3.9 \n"
   ]
  },
  {
   "cell_type": "markdown",
   "id": "a092fe58",
   "metadata": {},
   "source": [
    "### Title\n",
    "1. Heading\n",
    "    - sub line\n",
    "        - sub heading\n",
    "            - **paragragh**\n",
    "                - text,images,urls"
   ]
  },
  {
   "cell_type": "markdown",
   "id": "4fad3a6a",
   "metadata": {},
   "source": [
    "#### Reference Links\n",
    "- **Follow us on social media platforms**\n",
    "1. [Google](https://www.google.com/)\n",
    "2. [youtube](https://www.youtube.com/)\n",
    "3. [Facebook](https://facebook.com)\n",
    "4. [Instagram](https://insta.com/)\n"
   ]
  },
  {
   "cell_type": "markdown",
   "id": "0e00e7ef",
   "metadata": {},
   "source": [
    "### Table Creation"
   ]
  },
  {
   "cell_type": "markdown",
   "id": "3d6e690d",
   "metadata": {},
   "source": [
    "Sno.| Name| Location | Profession |\n",
    "-----|-----|-----|-----|\n",
    "1|Sirisha|Krishna|Coder|\n",
    "2|Jahnavi|Guntur|Developer|\n",
    "3|Kavya|Visakhapatnam|Tester|\n",
    "4|Bindu|East Godavari|Trainer|"
   ]
  },
  {
   "cell_type": "markdown",
   "id": "79a8c112",
   "metadata": {},
   "source": [
    "### Executing Html code\n",
    "- html for web designing"
   ]
  },
  {
   "cell_type": "markdown",
   "id": "693d3f02",
   "metadata": {},
   "source": [
    "<h4>I am Trainer cum Developer</h4>\n",
    "<p>this is a paragraph</p>\n",
    "<h4 style='color:brown;background-color:yellow;text-align:center;'>This is a coloured text</h4>"
   ]
  },
  {
   "cell_type": "markdown",
   "id": "2ca4599a",
   "metadata": {},
   "source": [
    "#### Image Display\n",
    "- image file should be either .jpg or .jpeg format\n",
    "- image file and our working(.ipynb) should be located in same directory/folder"
   ]
  },
  {
   "cell_type": "markdown",
   "id": "ccce53be",
   "metadata": {},
   "source": [
    "<img src='download.jpg'>"
   ]
  },
  {
   "cell_type": "markdown",
   "id": "a1f1820b",
   "metadata": {},
   "source": [
    "#### video display"
   ]
  },
  {
   "cell_type": "markdown",
   "id": "c1f02c04",
   "metadata": {},
   "source": [
    "<video width=140 height=90 controls>\n",
    "       <source src=\"nature.mp4\"></src>\n",
    "       </source>\n",
    "       </video>"
   ]
  },
  {
   "cell_type": "code",
   "execution_count": null,
   "id": "3f1c4dd6",
   "metadata": {},
   "outputs": [],
   "source": [
    "<video width=140 height=90 autoplay>\n",
    "       <source src=\"nature.mp4\"></src>\n",
    "       </video>"
   ]
  },
  {
   "cell_type": "markdown",
   "id": "ed0dacbf",
   "metadata": {},
   "source": [
    "<video width=140 height=90 autoplay muted>\n",
    "       <source src=\"nature.mp4\"></src>\n",
    "       </video>"
   ]
  },
  {
   "cell_type": "markdown",
   "id": "aeb2ba4c",
   "metadata": {},
   "source": [
    "# Keyword\n",
    "    \n",
    "        --> It has a special meaning"
   ]
  },
  {
   "cell_type": "code",
   "execution_count": 1,
   "id": "725962b0",
   "metadata": {},
   "outputs": [
    {
     "name": "stdout",
     "output_type": "stream",
     "text": [
      "['False', 'None', 'True', '__peg_parser__', 'and', 'as', 'assert', 'async', 'await', 'break', 'class', 'continue', 'def', 'del', 'elif', 'else', 'except', 'finally', 'for', 'from', 'global', 'if', 'import', 'in', 'is', 'lambda', 'nonlocal', 'not', 'or', 'pass', 'raise', 'return', 'try', 'while', 'with', 'yield']\n"
     ]
    }
   ],
   "source": [
    "import keyword\n",
    "print(keyword.kwlist)"
   ]
  },
  {
   "cell_type": "code",
   "execution_count": 3,
   "id": "1c08cce9",
   "metadata": {},
   "outputs": [
    {
     "name": "stdout",
     "output_type": "stream",
     "text": [
      "36\n"
     ]
    }
   ],
   "source": [
    "import keyword\n",
    "print(len(keyword.kwlist))"
   ]
  },
  {
   "cell_type": "markdown",
   "id": "b80f327a",
   "metadata": {},
   "source": [
    "# Comments in python\n",
    "    \n",
    "    - Singleline Comment-----> #\n",
    "    - Multiline Comment"
   ]
  },
  {
   "cell_type": "code",
   "execution_count": 6,
   "id": "0c704284",
   "metadata": {},
   "outputs": [
    {
     "name": "stdout",
     "output_type": "stream",
     "text": [
      "hello\n"
     ]
    }
   ],
   "source": [
    "#print(\"hiiiii\")\n",
    "print(\"hello\")"
   ]
  },
  {
   "cell_type": "code",
   "execution_count": 7,
   "id": "d9fe580d",
   "metadata": {
    "collapsed": true
   },
   "outputs": [
    {
     "name": "stdout",
     "output_type": "stream",
     "text": [
      "jupyter\n"
     ]
    }
   ],
   "source": [
    "# multiline comment\n",
    "''' welcome to python workshop \n",
    "kljgtkdjtkjrtk\n",
    "djkrhjehrjehrj\n",
    "jksrhjkehrjkhejr\n",
    "djkhrfjkderhh  '''\n",
    "print(\"jupyter\")"
   ]
  },
  {
   "cell_type": "code",
   "execution_count": 12,
   "id": "3ccf0502",
   "metadata": {},
   "outputs": [
    {
     "name": "stdout",
     "output_type": "stream",
     "text": [
      "GUDLA'VALLERU ENGINEERING' COLLEGE\n"
     ]
    }
   ],
   "source": [
    "print(\"GUDLA'VALLERU ENGINEERING' COLLEGE\")"
   ]
  },
  {
   "cell_type": "code",
   "execution_count": 14,
   "id": "cccdd045",
   "metadata": {},
   "outputs": [
    {
     "name": "stdout",
     "output_type": "stream",
     "text": [
      "GUDLAVALLERU \"ENGINEERING\" COLLEGE\n"
     ]
    }
   ],
   "source": [
    "print('''GUDLAVALLERU \"ENGINEERING\" COLLEGE''')"
   ]
  },
  {
   "cell_type": "code",
   "execution_count": null,
   "id": "3c5d8442",
   "metadata": {},
   "outputs": [],
   "source": []
  }
 ],
 "metadata": {
  "kernelspec": {
   "display_name": "Python 3 (ipykernel)",
   "language": "python",
   "name": "python3"
  },
  "language_info": {
   "codemirror_mode": {
    "name": "ipython",
    "version": 3
   },
   "file_extension": ".py",
   "mimetype": "text/x-python",
   "name": "python",
   "nbconvert_exporter": "python",
   "pygments_lexer": "ipython3",
   "version": "3.9.7"
  }
 },
 "nbformat": 4,
 "nbformat_minor": 5
}
