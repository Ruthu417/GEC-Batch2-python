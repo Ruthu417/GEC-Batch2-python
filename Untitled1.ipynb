{
 "cells": [
  {
   "cell_type": "markdown",
   "id": "bca39025",
   "metadata": {},
   "source": []
  },
  {
   "cell_type": "code",
   "execution_count": 1,
   "id": "44c96e00",
   "metadata": {},
   "outputs": [
    {
     "name": "stdout",
     "output_type": "stream",
     "text": [
      "5\n",
      "    * \n",
      "   * * \n",
      "  * * * \n",
      " * * * * \n",
      "* * * * * \n"
     ]
    }
   ],
   "source": [
    "num = int(input())\n",
    "for i in range (num):\n",
    "    for n in range(num-i-1):\n",
    "        print(end=\" \")\n",
    "    for n in range(i+1):\n",
    "        print(\"*\",end=\" \")\n",
    "    print()"
   ]
  },
  {
   "cell_type": "code",
   "execution_count": 2,
   "id": "e850a278",
   "metadata": {},
   "outputs": [
    {
     "name": "stdout",
     "output_type": "stream",
     "text": [
      "5\n",
      "* * * * * \n",
      " * * * * \n",
      "  * * * \n",
      "   * * \n",
      "    * \n"
     ]
    }
   ],
   "source": [
    "num = int(input())\n",
    "for i in range (num,0,-1):\n",
    "    for n in range(0,num-i):\n",
    "        print(end=\" \")\n",
    "    for n in range(0,i):\n",
    "        print(\"*\",end=\" \")\n",
    "    print()"
   ]
  },
  {
   "cell_type": "code",
   "execution_count": null,
   "id": "8c72b1ab",
   "metadata": {},
   "outputs": [],
   "source": [
    "### Data Structures\n",
    "\n",
    "    - A way of organizing the data\n"
   ]
  },
  {
   "cell_type": "code",
   "execution_count": 4,
   "id": "e525078d",
   "metadata": {},
   "outputs": [
    {
     "name": "stdout",
     "output_type": "stream",
     "text": [
      "<class 'list'>\n",
      "[]\n"
     ]
    }
   ],
   "source": [
    "li = []\n",
    "print(type(li))\n",
    "print(li)"
   ]
  },
  {
   "cell_type": "code",
   "execution_count": 5,
   "id": "3788f27f",
   "metadata": {},
   "outputs": [
    {
     "name": "stdout",
     "output_type": "stream",
     "text": [
      "[3, 4, 4.7, 9.6, 'a', 'b']\n"
     ]
    }
   ],
   "source": [
    "li1 = [3,4,4.7,9.6,\"a\",\"b\"]\n",
    "print(li1)"
   ]
  },
  {
   "cell_type": "code",
   "execution_count": 6,
   "id": "d1504e62",
   "metadata": {},
   "outputs": [
    {
     "data": {
      "text/plain": [
       "4.7"
      ]
     },
     "execution_count": 6,
     "metadata": {},
     "output_type": "execute_result"
    }
   ],
   "source": [
    "li1[2]"
   ]
  },
  {
   "cell_type": "code",
   "execution_count": 7,
   "id": "62dbc6b0",
   "metadata": {},
   "outputs": [
    {
     "data": {
      "text/plain": [
       "9.6"
      ]
     },
     "execution_count": 7,
     "metadata": {},
     "output_type": "execute_result"
    }
   ],
   "source": [
    "li1[3]"
   ]
  },
  {
   "cell_type": "code",
   "execution_count": 8,
   "id": "b3531015",
   "metadata": {},
   "outputs": [
    {
     "data": {
      "text/plain": [
       "'b'"
      ]
     },
     "execution_count": 8,
     "metadata": {},
     "output_type": "execute_result"
    }
   ],
   "source": [
    "li1[-1]"
   ]
  },
  {
   "cell_type": "code",
   "execution_count": 9,
   "id": "b8476d58",
   "metadata": {},
   "outputs": [
    {
     "data": {
      "text/plain": [
       "'ahtinav'"
      ]
     },
     "execution_count": 9,
     "metadata": {},
     "output_type": "execute_result"
    }
   ],
   "source": [
    "d=\"vanitha\"\n",
    "d[::-1]"
   ]
  },
  {
   "cell_type": "code",
   "execution_count": 10,
   "id": "9e72564a",
   "metadata": {},
   "outputs": [
    {
     "data": {
      "text/plain": [
       "['b', 'a', 9.6, 4.7, 4, 3]"
      ]
     },
     "execution_count": 10,
     "metadata": {},
     "output_type": "execute_result"
    }
   ],
   "source": [
    "li1[::-1]"
   ]
  },
  {
   "cell_type": "code",
   "execution_count": 11,
   "id": "99a59276",
   "metadata": {},
   "outputs": [
    {
     "data": {
      "text/plain": [
       "[3, 4, 4.7, 9.6, 'a', 'b']"
      ]
     },
     "execution_count": 11,
     "metadata": {},
     "output_type": "execute_result"
    }
   ],
   "source": [
    "li1"
   ]
  },
  {
   "cell_type": "code",
   "execution_count": 13,
   "id": "bd032553",
   "metadata": {
    "collapsed": true
   },
   "outputs": [
    {
     "data": {
      "text/plain": [
       "[4, 4.7, 9.6, 'a']"
      ]
     },
     "execution_count": 13,
     "metadata": {},
     "output_type": "execute_result"
    }
   ],
   "source": [
    "li1[1:5]"
   ]
  },
  {
   "cell_type": "code",
   "execution_count": 14,
   "id": "a40c0b5c",
   "metadata": {
    "collapsed": true
   },
   "outputs": [
    {
     "data": {
      "text/plain": [
       "[9.6, 'a', 'b']"
      ]
     },
     "execution_count": 14,
     "metadata": {},
     "output_type": "execute_result"
    }
   ],
   "source": [
    "li1[3:]"
   ]
  },
  {
   "cell_type": "code",
   "execution_count": 15,
   "id": "80972ce8",
   "metadata": {
    "collapsed": true
   },
   "outputs": [
    {
     "data": {
      "text/plain": [
       "[3, 4, 4.7, 9.6, 'a', 'b']"
      ]
     },
     "execution_count": 15,
     "metadata": {},
     "output_type": "execute_result"
    }
   ],
   "source": [
    "li1[:]"
   ]
  },
  {
   "cell_type": "code",
   "execution_count": 21,
   "id": "719cf2d8",
   "metadata": {
    "collapsed": true
   },
   "outputs": [
    {
     "name": "stdout",
     "output_type": "stream",
     "text": [
      "3\n",
      "88\n",
      "164.3\n",
      "6\n",
      "[3, 4, 4.7, 9.6, 55, 88]\n"
     ]
    }
   ],
   "source": [
    "li3=[3, 4, 4.7, 9.6, 55,88]\n",
    "print(min(li3)) \n",
    "print(max(li3))\n",
    "print(sum(li3))\n",
    "print(len(li3))\n",
    "print(sorted(li3))"
   ]
  },
  {
   "cell_type": "code",
   "execution_count": 22,
   "id": "50265454",
   "metadata": {},
   "outputs": [
    {
     "name": "stdout",
     "output_type": "stream",
     "text": [
      "['__add__', '__class__', '__class_getitem__', '__contains__', '__delattr__', '__delitem__', '__dir__', '__doc__', '__eq__', '__format__', '__ge__', '__getattribute__', '__getitem__', '__gt__', '__hash__', '__iadd__', '__imul__', '__init__', '__init_subclass__', '__iter__', '__le__', '__len__', '__lt__', '__mul__', '__ne__', '__new__', '__reduce__', '__reduce_ex__', '__repr__', '__reversed__', '__rmul__', '__setattr__', '__setitem__', '__sizeof__', '__str__', '__subclasshook__', 'append', 'clear', 'copy', 'count', 'extend', 'index', 'insert', 'pop', 'remove', 'reverse', 'sort'] "
     ]
    }
   ],
   "source": [
    "print(dir(list),end=' ')"
   ]
  },
  {
   "cell_type": "code",
   "execution_count": 23,
   "id": "58632a92",
   "metadata": {
    "collapsed": true
   },
   "outputs": [
    {
     "name": "stdout",
     "output_type": "stream",
     "text": [
      "[56, 34, 11, 45, 78]\n"
     ]
    }
   ],
   "source": [
    "# append()\n",
    "k = [56,34,11,45]\n",
    "k.append(78)\n",
    "print(k)"
   ]
  },
  {
   "cell_type": "code",
   "execution_count": 69,
   "id": "4730a519",
   "metadata": {},
   "outputs": [
    {
     "data": {
      "text/plain": [
       "3"
      ]
     },
     "execution_count": 69,
     "metadata": {},
     "output_type": "execute_result"
    }
   ],
   "source": [
    "# count()\n",
    "k = [56,34,11,45,56,22,56]\n",
    "k.count(56)"
   ]
  },
  {
   "cell_type": "code",
   "execution_count": 72,
   "id": "9a0f5825",
   "metadata": {},
   "outputs": [
    {
     "name": "stdout",
     "output_type": "stream",
     "text": [
      "2\n",
      "None\n"
     ]
    },
    {
     "data": {
      "text/plain": [
       "[11, 22, 34, 45, 56, 56, 56]"
      ]
     },
     "execution_count": 72,
     "metadata": {},
     "output_type": "execute_result"
    }
   ],
   "source": [
    "# index()\n",
    "print(k.index(34))\n",
    "print(k.sort())\n",
    "k"
   ]
  },
  {
   "cell_type": "code",
   "execution_count": 28,
   "id": "e89ec210",
   "metadata": {
    "collapsed": true
   },
   "outputs": [
    {
     "data": {
      "text/plain": [
       "[56, 34, 11, 45, 4, 6, 7, 8]"
      ]
     },
     "execution_count": 28,
     "metadata": {},
     "output_type": "execute_result"
    }
   ],
   "source": [
    "# extend()\n",
    "k1,k2= [56,34,11,45],[4,6,7,8]\n",
    "k1.extend(k2)\n",
    "k1"
   ]
  },
  {
   "cell_type": "code",
   "execution_count": 29,
   "id": "69b79d5e",
   "metadata": {
    "collapsed": true
   },
   "outputs": [
    {
     "data": {
      "text/plain": [
       "[56, 34, 54, 11, 45]"
      ]
     },
     "execution_count": 29,
     "metadata": {},
     "output_type": "execute_result"
    }
   ],
   "source": [
    "# insert()\n",
    "k = [56,34,11,45]\n",
    "k.insert(2,54)\n",
    "k"
   ]
  },
  {
   "cell_type": "code",
   "execution_count": 31,
   "id": "1b77d830",
   "metadata": {
    "collapsed": true
   },
   "outputs": [
    {
     "data": {
      "text/plain": [
       "[56, 34, 54]"
      ]
     },
     "execution_count": 31,
     "metadata": {},
     "output_type": "execute_result"
    }
   ],
   "source": [
    "# pop()\n",
    "k.pop()\n",
    "k"
   ]
  },
  {
   "cell_type": "code",
   "execution_count": 32,
   "id": "075c3ea4",
   "metadata": {},
   "outputs": [
    {
     "data": {
      "text/plain": [
       "[56, 34, 54]"
      ]
     },
     "execution_count": 32,
     "metadata": {},
     "output_type": "execute_result"
    }
   ],
   "source": [
    "k"
   ]
  },
  {
   "cell_type": "code",
   "execution_count": 35,
   "id": "d20793c4",
   "metadata": {},
   "outputs": [
    {
     "name": "stdout",
     "output_type": "stream",
     "text": [
      "[56, 54]\n"
     ]
    }
   ],
   "source": [
    "print(k)"
   ]
  },
  {
   "cell_type": "code",
   "execution_count": 37,
   "id": "5ed2ed7a",
   "metadata": {},
   "outputs": [
    {
     "name": "stdout",
     "output_type": "stream",
     "text": [
      "[45, 22, 77, 12]\n",
      "[45, 22, 12]\n"
     ]
    }
   ],
   "source": [
    "j = [45,22,77,12]\n",
    "print(j)\n",
    "j.remove(77)\n",
    "print(j)"
   ]
  },
  {
   "cell_type": "code",
   "execution_count": 41,
   "id": "d743dc2e",
   "metadata": {},
   "outputs": [
    {
     "name": "stdout",
     "output_type": "stream",
     "text": [
      "[45, 33, 89, 11] [45, 33, 89, 11]\n",
      "11\n",
      "[45, 33, 89] [45, 33, 89, 11]\n"
     ]
    }
   ],
   "source": [
    "g=[45,33,89,11]\n",
    "d=g.copy()\n",
    "print(d,g)\n",
    "print(d.pop())\n",
    "print(d,g)"
   ]
  },
  {
   "cell_type": "code",
   "execution_count": 40,
   "id": "c0cd02d2",
   "metadata": {},
   "outputs": [
    {
     "name": "stdout",
     "output_type": "stream",
     "text": [
      "[3, 2, 6] [3, 2, 6]\n",
      "6\n",
      "[3, 2] [3, 2]\n"
     ]
    }
   ],
   "source": [
    "g1=[3,2,6]\n",
    "g2=g1\n",
    "print(g1,g2)\n",
    "print(g1.pop())\n",
    "print(g1,g2)"
   ]
  },
  {
   "cell_type": "code",
   "execution_count": 42,
   "id": "536744f3",
   "metadata": {},
   "outputs": [],
   "source": [
    "d.clear()"
   ]
  },
  {
   "cell_type": "code",
   "execution_count": 43,
   "id": "9c3381ac",
   "metadata": {},
   "outputs": [
    {
     "data": {
      "text/plain": [
       "[]"
      ]
     },
     "execution_count": 43,
     "metadata": {},
     "output_type": "execute_result"
    }
   ],
   "source": [
    "d"
   ]
  },
  {
   "cell_type": "code",
   "execution_count": 44,
   "id": "144c2828",
   "metadata": {
    "collapsed": true
   },
   "outputs": [
    {
     "name": "stdout",
     "output_type": "stream",
     "text": [
      "78 55 34 22 90 "
     ]
    }
   ],
   "source": [
    "a=[78,55,34,22,90]\n",
    "for i in a:\n",
    "    print(i,end=' ')"
   ]
  },
  {
   "cell_type": "code",
   "execution_count": 48,
   "id": "cd71c10f",
   "metadata": {},
   "outputs": [
    {
     "name": "stdout",
     "output_type": "stream",
     "text": [
      "[78, 34, 90]\n"
     ]
    }
   ],
   "source": [
    "a1=[78,55,34,90,33,23]\n",
    "li=[]\n",
    "for i in a1:\n",
    "    if(i%2==0):\n",
    "        li.append(i)\n",
    "print(li)"
   ]
  },
  {
   "cell_type": "code",
   "execution_count": 49,
   "id": "e14eab7c",
   "metadata": {},
   "outputs": [
    {
     "name": "stdout",
     "output_type": "stream",
     "text": [
      "[3025, 1089, 529]\n"
     ]
    }
   ],
   "source": [
    "a1=[78,55,34,90,33,23]\n",
    "a2=[]\n",
    "for i in a1:\n",
    "    if(i%2!=0):\n",
    "        a2.append(i**2)\n",
    "print(a2)"
   ]
  },
  {
   "cell_type": "code",
   "execution_count": null,
   "id": "bcaf5e46",
   "metadata": {},
   "outputs": [],
   "source": [
    "# tuple()"
   ]
  },
  {
   "cell_type": "code",
   "execution_count": 50,
   "id": "a810341e",
   "metadata": {},
   "outputs": [
    {
     "name": "stdout",
     "output_type": "stream",
     "text": [
      "()\n",
      "<class 'tuple'>\n"
     ]
    }
   ],
   "source": [
    "t=()\n",
    "print(t)\n",
    "print(type(t))"
   ]
  },
  {
   "cell_type": "code",
   "execution_count": 51,
   "id": "6896f502",
   "metadata": {},
   "outputs": [
    {
     "data": {
      "text/plain": [
       "(34, 23, 'a', 5.7, 341)"
      ]
     },
     "execution_count": 51,
     "metadata": {},
     "output_type": "execute_result"
    }
   ],
   "source": [
    "t1=(34,23,\"a\",5.7,341)\n",
    "t1"
   ]
  },
  {
   "cell_type": "code",
   "execution_count": 52,
   "id": "ed67c9b5",
   "metadata": {},
   "outputs": [
    {
     "name": "stdout",
     "output_type": "stream",
     "text": [
      "['__add__', '__class__', '__class_getitem__', '__contains__', '__delattr__', '__dir__', '__doc__', '__eq__', '__format__', '__ge__', '__getattribute__', '__getitem__', '__getnewargs__', '__gt__', '__hash__', '__init__', '__init_subclass__', '__iter__', '__le__', '__len__', '__lt__', '__mul__', '__ne__', '__new__', '__reduce__', '__reduce_ex__', '__repr__', '__rmul__', '__setattr__', '__sizeof__', '__str__', '__subclasshook__', 'count', 'index'] "
     ]
    }
   ],
   "source": [
    "print(dir(tuple),end=' ')"
   ]
  },
  {
   "cell_type": "code",
   "execution_count": 54,
   "id": "9c433756",
   "metadata": {
    "collapsed": true
   },
   "outputs": [
    {
     "name": "stdout",
     "output_type": "stream",
     "text": [
      "1\n",
      "2\n"
     ]
    }
   ],
   "source": [
    "t2=(67,22,56,11)\n",
    "print(t2.count(67))\n",
    "print(t2.index(56))"
   ]
  },
  {
   "cell_type": "code",
   "execution_count": null,
   "id": "ebcc997a",
   "metadata": {},
   "outputs": [],
   "source": [
    "# Dictionary"
   ]
  },
  {
   "cell_type": "code",
   "execution_count": 56,
   "id": "68730656",
   "metadata": {
    "collapsed": true
   },
   "outputs": [
    {
     "name": "stdout",
     "output_type": "stream",
     "text": [
      "<class 'dict'>\n",
      "{}\n"
     ]
    }
   ],
   "source": [
    "d = {}\n",
    "print(type(d))\n",
    "print(d)"
   ]
  },
  {
   "cell_type": "code",
   "execution_count": 57,
   "id": "e7d789d4",
   "metadata": {
    "collapsed": true
   },
   "outputs": [
    {
     "data": {
      "text/plain": [
       "{4: 'a', 2: 89, 'b': 'c'}"
      ]
     },
     "execution_count": 57,
     "metadata": {},
     "output_type": "execute_result"
    }
   ],
   "source": [
    "d1 ={4:3,2:89,4:\"a\",\"b\":\"c\"}\n",
    "d1"
   ]
  },
  {
   "cell_type": "code",
   "execution_count": 58,
   "id": "d4333d8e",
   "metadata": {},
   "outputs": [
    {
     "data": {
      "text/plain": [
       "{4: 56, 2: 56, 11: 57}"
      ]
     },
     "execution_count": 58,
     "metadata": {},
     "output_type": "execute_result"
    }
   ],
   "source": [
    "d2 = {4:56,2:56,11:57}\n",
    "d2"
   ]
  },
  {
   "cell_type": "code",
   "execution_count": 59,
   "id": "af3264b8",
   "metadata": {},
   "outputs": [
    {
     "name": "stdout",
     "output_type": "stream",
     "text": [
      "['__class__', '__class_getitem__', '__contains__', '__delattr__', '__delitem__', '__dir__', '__doc__', '__eq__', '__format__', '__ge__', '__getattribute__', '__getitem__', '__gt__', '__hash__', '__init__', '__init_subclass__', '__ior__', '__iter__', '__le__', '__len__', '__lt__', '__ne__', '__new__', '__or__', '__reduce__', '__reduce_ex__', '__repr__', '__reversed__', '__ror__', '__setattr__', '__setitem__', '__sizeof__', '__str__', '__subclasshook__', 'clear', 'copy', 'fromkeys', 'get', 'items', 'keys', 'pop', 'popitem', 'setdefault', 'update', 'values'] "
     ]
    }
   ],
   "source": [
    "print(dir(dict),end=' ')"
   ]
  },
  {
   "cell_type": "code",
   "execution_count": 60,
   "id": "68d01480",
   "metadata": {
    "collapsed": true
   },
   "outputs": [
    {
     "data": {
      "text/plain": [
       "56"
      ]
     },
     "execution_count": 60,
     "metadata": {},
     "output_type": "execute_result"
    }
   ],
   "source": [
    "# get()\n",
    "h = {4: 56, 2: 56, 11: 57}\n",
    "h.get(2)"
   ]
  },
  {
   "cell_type": "code",
   "execution_count": 62,
   "id": "fe48f0c4",
   "metadata": {},
   "outputs": [
    {
     "name": "stdout",
     "output_type": "stream",
     "text": [
      "dict_keys([4, 2, 11])\n",
      "dict_values([56, 56, 57])\n",
      "dict_items([(4, 56), (2, 56), (11, 57)])\n"
     ]
    }
   ],
   "source": [
    "# keys(),values(),items()\n",
    "print(h.keys())\n",
    "print(h.values())\n",
    "print(h.items())"
   ]
  },
  {
   "cell_type": "code",
   "execution_count": 63,
   "id": "73610db0",
   "metadata": {},
   "outputs": [
    {
     "name": "stdout",
     "output_type": "stream",
     "text": [
      "{4: 56, 2: 56, 11: 57} {4: 56, 2: 56, 11: 57}\n"
     ]
    }
   ],
   "source": [
    "# copy()\n",
    "s={4: 56, 2: 56, 11: 57}\n",
    "s1=s.copy()\n",
    "print(s,s1)"
   ]
  },
  {
   "cell_type": "code",
   "execution_count": 66,
   "id": "2acf7ba8",
   "metadata": {
    "collapsed": true
   },
   "outputs": [
    {
     "data": {
      "text/plain": [
       "{4: 56, 11: 57}"
      ]
     },
     "execution_count": 66,
     "metadata": {},
     "output_type": "execute_result"
    }
   ],
   "source": [
    "#pop()\n",
    "j={4: 56, 2: 56, 11: 57}\n",
    "j.pop(2)\n",
    "j"
   ]
  },
  {
   "cell_type": "code",
   "execution_count": 67,
   "id": "1a6f5b43",
   "metadata": {},
   "outputs": [
    {
     "data": {
      "text/plain": [
       "{4: 56}"
      ]
     },
     "execution_count": 67,
     "metadata": {},
     "output_type": "execute_result"
    }
   ],
   "source": [
    "# popitem()\n",
    "j.popitem()\n",
    "j"
   ]
  },
  {
   "cell_type": "code",
   "execution_count": 73,
   "id": "2d4c6538",
   "metadata": {},
   "outputs": [
    {
     "data": {
      "text/plain": [
       "{4: 56}"
      ]
     },
     "execution_count": 73,
     "metadata": {},
     "output_type": "execute_result"
    }
   ],
   "source": [
    "j"
   ]
  },
  {
   "cell_type": "code",
   "execution_count": 74,
   "id": "f8048578",
   "metadata": {},
   "outputs": [
    {
     "data": {
      "text/plain": [
       "{4: 56, 56: 78}"
      ]
     },
     "execution_count": 74,
     "metadata": {},
     "output_type": "execute_result"
    }
   ],
   "source": [
    "j[56]=78\n",
    "j"
   ]
  },
  {
   "cell_type": "code",
   "execution_count": 75,
   "id": "89cbe87b",
   "metadata": {
    "scrolled": false
   },
   "outputs": [
    {
     "data": {
      "text/plain": [
       "{4: 56, 56: 78, 'python': 'workshop'}"
      ]
     },
     "execution_count": 75,
     "metadata": {},
     "output_type": "execute_result"
    }
   ],
   "source": [
    "j[\"python\"]=\"workshop\"\n",
    "j"
   ]
  },
  {
   "cell_type": "code",
   "execution_count": 76,
   "id": "8e486723",
   "metadata": {
    "collapsed": true
   },
   "outputs": [
    {
     "data": {
      "text/plain": [
       "{4: 56, 56: 78, 'python': 'language'}"
      ]
     },
     "execution_count": 76,
     "metadata": {},
     "output_type": "execute_result"
    }
   ],
   "source": [
    "# update()\n",
    "j.update({'python':'language'})\n",
    "j"
   ]
  },
  {
   "cell_type": "code",
   "execution_count": 77,
   "id": "ffebf014",
   "metadata": {
    "scrolled": true
   },
   "outputs": [
    {
     "name": "stdout",
     "output_type": "stream",
     "text": [
      "{1: None, 2: None, 3: None, 4: None}\n"
     ]
    }
   ],
   "source": [
    "# fromkeys()\n",
    "keys=[1,2,3,4]\n",
    "numbers=dict.fromkeys(keys)\n",
    "print(numbers)"
   ]
  },
  {
   "cell_type": "code",
   "execution_count": 78,
   "id": "b95ca158",
   "metadata": {},
   "outputs": [
    {
     "name": "stdout",
     "output_type": "stream",
     "text": [
      "{1: 67, 2: 67, 3: 67, 4: 67}\n"
     ]
    }
   ],
   "source": [
    "keys=[1,2,3,4]\n",
    "numbers=dict.fromkeys(keys,67)\n",
    "print(numbers)"
   ]
  },
  {
   "cell_type": "code",
   "execution_count": 79,
   "id": "f20973d0",
   "metadata": {},
   "outputs": [],
   "source": [
    "j.clear()"
   ]
  },
  {
   "cell_type": "code",
   "execution_count": 80,
   "id": "7764ca43",
   "metadata": {},
   "outputs": [
    {
     "data": {
      "text/plain": [
       "{}"
      ]
     },
     "execution_count": 80,
     "metadata": {},
     "output_type": "execute_result"
    }
   ],
   "source": [
    "j"
   ]
  },
  {
   "cell_type": "code",
   "execution_count": 81,
   "id": "433fc20d",
   "metadata": {},
   "outputs": [
    {
     "name": "stdout",
     "output_type": "stream",
     "text": [
      "4\n",
      "2\n",
      "11\n"
     ]
    }
   ],
   "source": [
    "s={4: 56, 2: 56, 11: 57}\n",
    "for i in s:\n",
    "    print(i)"
   ]
  },
  {
   "cell_type": "code",
   "execution_count": 82,
   "id": "a2819008",
   "metadata": {
    "collapsed": true
   },
   "outputs": [
    {
     "name": "stdout",
     "output_type": "stream",
     "text": [
      "(4, 56)\n",
      "(2, 56)\n",
      "(11, 57)\n"
     ]
    }
   ],
   "source": [
    "s={4: 56, 2: 56, 11: 57}\n",
    "for i in s.items():\n",
    "    print(i)"
   ]
  },
  {
   "cell_type": "code",
   "execution_count": 83,
   "id": "4f5b1d30",
   "metadata": {
    "collapsed": true
   },
   "outputs": [
    {
     "name": "stdout",
     "output_type": "stream",
     "text": [
      "56\n",
      "56\n",
      "57\n"
     ]
    }
   ],
   "source": [
    "s={4: 56, 2: 56, 11: 57}\n",
    "for i in s.values():\n",
    "    print(i)"
   ]
  },
  {
   "cell_type": "code",
   "execution_count": 84,
   "id": "8081ca6e",
   "metadata": {},
   "outputs": [
    {
     "name": "stdout",
     "output_type": "stream",
     "text": [
      "{1: 1, 2: 4, 3: 9, 4: 16}\n"
     ]
    }
   ],
   "source": [
    "s = [1,2,3,4]\n",
    "d = {}\n",
    "for i in s:\n",
    "    d[i]=i**2\n",
    "print(d)"
   ]
  },
  {
   "cell_type": "code",
   "execution_count": null,
   "id": "655de6d4",
   "metadata": {},
   "outputs": [],
   "source": [
    "# i/p: 10\n",
    "# o/p: {1:1,2:8,3:27,.........10:1000}\n"
   ]
  },
  {
   "cell_type": "code",
   "execution_count": 85,
   "id": "17a11f46",
   "metadata": {},
   "outputs": [
    {
     "data": {
      "text/plain": [
       "{12, 22, 3.6, 45, 89, 'g'}"
      ]
     },
     "execution_count": 85,
     "metadata": {},
     "output_type": "execute_result"
    }
   ],
   "source": [
    "# set()\n",
    "s={45,22,89,12,\"g\",3.6}\n",
    "s"
   ]
  },
  {
   "cell_type": "code",
   "execution_count": 87,
   "id": "e80f1596",
   "metadata": {
    "collapsed": true
   },
   "outputs": [
    {
     "name": "stdout",
     "output_type": "stream",
     "text": [
      "<class 'dict'>\n"
     ]
    }
   ],
   "source": [
    "s={}\n",
    "print(type(s))"
   ]
  },
  {
   "cell_type": "code",
   "execution_count": 89,
   "id": "6a801070",
   "metadata": {},
   "outputs": [
    {
     "data": {
      "text/plain": [
       "{1, 2, 3, 7}"
      ]
     },
     "execution_count": 89,
     "metadata": {},
     "output_type": "execute_result"
    }
   ],
   "source": [
    "s={2,1,2,3,2,3,1,1,7}\n",
    "s"
   ]
  },
  {
   "cell_type": "code",
   "execution_count": 91,
   "id": "f99db100",
   "metadata": {},
   "outputs": [
    {
     "name": "stdout",
     "output_type": "stream",
     "text": [
      "['__and__', '__class__', '__class_getitem__', '__contains__', '__delattr__', '__dir__', '__doc__', '__eq__', '__format__', '__ge__', '__getattribute__', '__gt__', '__hash__', '__iand__', '__init__', '__init_subclass__', '__ior__', '__isub__', '__iter__', '__ixor__', '__le__', '__len__', '__lt__', '__ne__', '__new__', '__or__', '__rand__', '__reduce__', '__reduce_ex__', '__repr__', '__ror__', '__rsub__', '__rxor__', '__setattr__', '__sizeof__', '__str__', '__sub__', '__subclasshook__', '__xor__', 'add', 'clear', 'copy', 'difference', 'difference_update', 'discard', 'intersection', 'intersection_update', 'isdisjoint', 'issubset', 'issuperset', 'pop', 'remove', 'symmetric_difference', 'symmetric_difference_update', 'union', 'update'] "
     ]
    }
   ],
   "source": [
    "print(dir(set),end=' ')"
   ]
  },
  {
   "cell_type": "code",
   "execution_count": 88,
   "id": "9b999350",
   "metadata": {},
   "outputs": [
    {
     "name": "stdout",
     "output_type": "stream",
     "text": [
      "<class 'set'>\n"
     ]
    }
   ],
   "source": [
    "s={1,3,7}\n",
    "print(type(s))"
   ]
  },
  {
   "cell_type": "code",
   "execution_count": 92,
   "id": "40fc96e4",
   "metadata": {
    "collapsed": true
   },
   "outputs": [
    {
     "data": {
      "text/plain": [
       "{1, 2, 3, 4, 5}"
      ]
     },
     "execution_count": 92,
     "metadata": {},
     "output_type": "execute_result"
    }
   ],
   "source": [
    "# add()\n",
    "s = {1,2,3,4}\n",
    "s.add(5)\n",
    "s"
   ]
  },
  {
   "cell_type": "code",
   "execution_count": 94,
   "id": "23e35d45",
   "metadata": {
    "collapsed": true
   },
   "outputs": [
    {
     "name": "stdout",
     "output_type": "stream",
     "text": [
      "{1, 2, 3, 4, 67, 22, 23, 56}\n",
      "{1, 2, 67, 3, 4, 22, 23, 56}\n"
     ]
    }
   ],
   "source": [
    "# union()\n",
    "a={2,3,4,1}\n",
    "b={56,22,67,23}\n",
    "print(a.union(b))\n",
    "print(b.union(a))"
   ]
  },
  {
   "cell_type": "code",
   "execution_count": 95,
   "id": "577ae367",
   "metadata": {
    "collapsed": true
   },
   "outputs": [
    {
     "name": "stdout",
     "output_type": "stream",
     "text": [
      "{22}\n",
      "{22}\n"
     ]
    }
   ],
   "source": [
    "# intersection()\n",
    "a={2,3,22,674,1}\n",
    "b={56,22,67,23}\n",
    "print(a.intersection(b))\n",
    "print(b.intersection(a))"
   ]
  },
  {
   "cell_type": "code",
   "execution_count": 97,
   "id": "388c7464",
   "metadata": {
    "collapsed": true
   },
   "outputs": [
    {
     "name": "stdout",
     "output_type": "stream",
     "text": [
      "{1, 2, 3, 4}\n",
      "{56, 23}\n"
     ]
    }
   ],
   "source": [
    "# difference()\n",
    "a={2,3,22,67,4,1}\n",
    "b={56,22,67,23}\n",
    "print(a.difference(b))\n",
    "print(b.difference(a))"
   ]
  },
  {
   "cell_type": "code",
   "execution_count": 98,
   "id": "14e36c56",
   "metadata": {},
   "outputs": [
    {
     "data": {
      "text/plain": [
       "{2, 3, 4}"
      ]
     },
     "execution_count": 98,
     "metadata": {},
     "output_type": "execute_result"
    }
   ],
   "source": [
    "# pop()\n",
    "a={2,3,4,1}\n",
    "a.pop()\n",
    "a"
   ]
  },
  {
   "cell_type": "code",
   "execution_count": 99,
   "id": "0ac2cc5f",
   "metadata": {},
   "outputs": [
    {
     "data": {
      "text/plain": [
       "{22, 23, 56, 67}"
      ]
     },
     "execution_count": 99,
     "metadata": {},
     "output_type": "execute_result"
    }
   ],
   "source": [
    "b"
   ]
  },
  {
   "cell_type": "code",
   "execution_count": 102,
   "id": "fff779af",
   "metadata": {},
   "outputs": [
    {
     "data": {
      "text/plain": [
       "{22, 23, 67}"
      ]
     },
     "execution_count": 102,
     "metadata": {},
     "output_type": "execute_result"
    }
   ],
   "source": [
    "# discard()\n",
    "b.discard(56)\n",
    "b"
   ]
  },
  {
   "cell_type": "code",
   "execution_count": 103,
   "id": "20bfed3d",
   "metadata": {},
   "outputs": [
    {
     "ename": "KeyError",
     "evalue": "56",
     "output_type": "error",
     "traceback": [
      "\u001b[1;31m---------------------------------------------------------------------------\u001b[0m",
      "\u001b[1;31mKeyError\u001b[0m                                  Traceback (most recent call last)",
      "\u001b[1;32m~\\AppData\\Local\\Temp/ipykernel_3932/1873782490.py\u001b[0m in \u001b[0;36m<module>\u001b[1;34m\u001b[0m\n\u001b[0;32m      1\u001b[0m \u001b[1;31m# remove()\u001b[0m\u001b[1;33m\u001b[0m\u001b[1;33m\u001b[0m\u001b[0m\n\u001b[0;32m      2\u001b[0m \u001b[0mb\u001b[0m \u001b[1;33m=\u001b[0m \u001b[1;33m{\u001b[0m\u001b[1;36m22\u001b[0m\u001b[1;33m,\u001b[0m \u001b[1;36m23\u001b[0m\u001b[1;33m,\u001b[0m \u001b[1;36m67\u001b[0m\u001b[1;33m}\u001b[0m\u001b[1;33m\u001b[0m\u001b[1;33m\u001b[0m\u001b[0m\n\u001b[1;32m----> 3\u001b[1;33m \u001b[0mb\u001b[0m\u001b[1;33m.\u001b[0m\u001b[0mremove\u001b[0m\u001b[1;33m(\u001b[0m\u001b[1;36m56\u001b[0m\u001b[1;33m)\u001b[0m\u001b[1;33m\u001b[0m\u001b[1;33m\u001b[0m\u001b[0m\n\u001b[0m\u001b[0;32m      4\u001b[0m \u001b[0mb\u001b[0m\u001b[1;33m\u001b[0m\u001b[1;33m\u001b[0m\u001b[0m\n",
      "\u001b[1;31mKeyError\u001b[0m: 56"
     ]
    }
   ],
   "source": [
    "# remove()\n",
    "b = {22, 23, 67}\n",
    "b.remove(56)\n",
    "b"
   ]
  },
  {
   "cell_type": "code",
   "execution_count": 108,
   "id": "b4d36cd3",
   "metadata": {},
   "outputs": [
    {
     "data": {
      "text/plain": [
       "True"
      ]
     },
     "execution_count": 108,
     "metadata": {},
     "output_type": "execute_result"
    }
   ],
   "source": [
    "# isdisjoint()\n",
    "x={\"a\",\"b\",\"c\"}\n",
    "y={\"d\",\"e\",\"f\"}\n",
    "z=x.isdisjoint(y)\n",
    "z"
   ]
  },
  {
   "cell_type": "code",
   "execution_count": null,
   "id": "c1441396",
   "metadata": {},
   "outputs": [],
   "source": [
    "# printing the unique elements in the list\n",
    "\n",
    "# o/p: [1,5,6]\n"
   ]
  },
  {
   "cell_type": "code",
   "execution_count": 109,
   "id": "690d5422",
   "metadata": {},
   "outputs": [
    {
     "name": "stdout",
     "output_type": "stream",
     "text": [
      "[1, 5, 6]\n"
     ]
    }
   ],
   "source": [
    "li=[2,3,1,2,3,5,6,3]\n",
    "li1=[]\n",
    "for i in li:\n",
    "    if(li.count(i)==1):\n",
    "        li1.append(i)\n",
    "print(li1)"
   ]
  },
  {
   "cell_type": "code",
   "execution_count": null,
   "id": "0b224f7d",
   "metadata": {},
   "outputs": [],
   "source": []
  }
 ],
 "metadata": {
  "kernelspec": {
   "display_name": "Python 3 (ipykernel)",
   "language": "python",
   "name": "python3"
  },
  "language_info": {
   "codemirror_mode": {
    "name": "ipython",
    "version": 3
   },
   "file_extension": ".py",
   "mimetype": "text/x-python",
   "name": "python",
   "nbconvert_exporter": "python",
   "pygments_lexer": "ipython3",
   "version": "3.9.7"
  }
 },
 "nbformat": 4,
 "nbformat_minor": 5
}
