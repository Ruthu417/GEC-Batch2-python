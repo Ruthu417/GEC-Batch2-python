{
 "cells": [
  {
   "cell_type": "code",
   "execution_count": 3,
   "id": "5b9cee8e",
   "metadata": {
    "collapsed": true
   },
   "outputs": [
    {
     "name": "stdout",
     "output_type": "stream",
     "text": [
      "Chicken Biryani :Rs. 250 /-\n",
      "Starters :Rs. 180 /-\n",
      "Mutton Biryani :Rs. 450 /-\n",
      "Manchuria :Rs. 120 /-\n",
      "Fried Rice :Rs. 150 /-\n",
      "Butter Nawn :Rs. 150 /-\n",
      "Cashew Paneer :Rs. 300 /-\n",
      "Soft Drink :Rs. 50 /-\n",
      "Chicken Lolly Pop :Rs. 150 /-\n",
      "Ice Cream :Rs. 100 /-\n",
      "Milk Shake :Rs. 150 /-\n",
      "Water Bottle :Rs. 25 /-\n",
      "order please:Cashew Paneer,Butter Nawn,soft drink\n",
      "Sorry..! soft drink not available..!\n",
      "Total Bill= 450\n"
     ]
    }
   ],
   "source": [
    "menu={'Chicken Biryani':250,'Starters':180,\n",
    "     'Mutton Biryani':450,'Manchuria':120,\n",
    "     'Fried Rice':150,'Butter Nawn':150,\n",
    "     'Cashew Paneer':300,'Soft Drink':50,\n",
    "     'Chicken Lolly Pop':150,'Ice Cream':100,\n",
    "     'Milk Shake':150,'Water Bottle':25}\n",
    "for item,price in menu.items():\n",
    "    print(item,':Rs.',price,'/-')\n",
    "order=input('order please:').split(',')\n",
    "bill=0\n",
    "for item in order:\n",
    "    if item in menu:\n",
    "        bill+=menu[item]\n",
    "    else:\n",
    "        print(\"Sorry..!\",item,'not available..!')\n",
    "print('Total Bill=',bill)"
   ]
  },
  {
   "cell_type": "code",
   "execution_count": null,
   "id": "dfcfcfdb",
   "metadata": {},
   "outputs": [],
   "source": [
    "#contact application\n",
    "save_contact()\n",
    "edit contact()\n",
    "delete_contact()\n",
    "search_contact()"
   ]
  }
 ],
 "metadata": {
  "kernelspec": {
   "display_name": "Python 3 (ipykernel)",
   "language": "python",
   "name": "python3"
  },
  "language_info": {
   "codemirror_mode": {
    "name": "ipython",
    "version": 3
   },
   "file_extension": ".py",
   "mimetype": "text/x-python",
   "name": "python",
   "nbconvert_exporter": "python",
   "pygments_lexer": "ipython3",
   "version": "3.9.7"
  }
 },
 "nbformat": 4,
 "nbformat_minor": 5
}
