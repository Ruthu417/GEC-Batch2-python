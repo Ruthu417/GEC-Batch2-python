{
 "cells": [
  {
   "cell_type": "markdown",
   "id": "1c9d8418",
   "metadata": {},
   "source": [
    "#### While loop\n",
    "- condition based iteration\n",
    "- it will be iterated for infinite no.of times also\n",
    "- user incrementation is here\n",
    "- **syntax**\n",
    "    - while condition:\n",
    "        - statements\n",
    "        - incrementation"
   ]
  },
  {
   "cell_type": "code",
   "execution_count": 1,
   "id": "6bd179b1",
   "metadata": {
    "collapsed": true
   },
   "outputs": [
    {
     "name": "stdout",
     "output_type": "stream",
     "text": [
      "1 2 3 4 5 6 7 8 9 10 "
     ]
    }
   ],
   "source": [
    "for num in range(1,11):\n",
    "    print(num,end=\" \")"
   ]
  },
  {
   "cell_type": "code",
   "execution_count": 2,
   "id": "960dcc36",
   "metadata": {
    "collapsed": true
   },
   "outputs": [
    {
     "name": "stdout",
     "output_type": "stream",
     "text": [
      "1 2 3 4 5 6 7 8 9 10 "
     ]
    }
   ],
   "source": [
    "it=1\n",
    "while it<=10:\n",
    "    print(it,end=\" \")\n",
    "    it+=1"
   ]
  },
  {
   "cell_type": "markdown",
   "id": "bac3b688",
   "metadata": {},
   "source": [
    "while True:\n",
    "    print(1)"
   ]
  },
  {
   "cell_type": "markdown",
   "id": "adbf4abe",
   "metadata": {},
   "source": [
    "while 1<=5:\n",
    "    print(\"gec\")"
   ]
  },
  {
   "cell_type": "markdown",
   "id": "93fb2155",
   "metadata": {},
   "source": [
    "it=1\n",
    "while it<=10:\n",
    "    print(it)"
   ]
  },
  {
   "cell_type": "code",
   "execution_count": 1,
   "id": "012208e6",
   "metadata": {
    "collapsed": true
   },
   "outputs": [
    {
     "name": "stdout",
     "output_type": "stream",
     "text": [
      "20 18 16 14 12 10 8 6 4 2 "
     ]
    }
   ],
   "source": [
    "#within range finding prime no.s\n",
    "#while loop in reverse order\n",
    "num=20\n",
    "while num>=1:\n",
    "    print(num,end=\" \")\n",
    "    num-=2"
   ]
  },
  {
   "cell_type": "code",
   "execution_count": 3,
   "id": "b06aa044",
   "metadata": {
    "collapsed": true
   },
   "outputs": [
    {
     "name": "stdout",
     "output_type": "stream",
     "text": [
      "value:7\n",
      "prime\n"
     ]
    }
   ],
   "source": [
    "# prime no.s present in a range using while\n",
    "n=int(input('value:'))\n",
    "it=1\n",
    "count=0\n",
    "while it<=n:\n",
    "    if n%it==0:\n",
    "        count+=1\n",
    "    it+=1\n",
    "if count==2:\n",
    "    print(\"prime\")\n",
    "else:print(\"non prime\")"
   ]
  },
  {
   "cell_type": "code",
   "execution_count": 1,
   "id": "1da2536c",
   "metadata": {
    "collapsed": true
   },
   "outputs": [
    {
     "name": "stdout",
     "output_type": "stream",
     "text": [
      "9\n",
      "9 x 1 = 9\n",
      "9 x 2 = 18\n",
      "9 x 3 = 27\n",
      "9 x 4 = 36\n",
      "9 x 5 = 45\n",
      "9 x 6 = 54\n",
      "9 x 7 = 63\n",
      "9 x 8 = 72\n",
      "9 x 9 = 81\n",
      "9 x 10 = 90\n"
     ]
    }
   ],
   "source": [
    "#print the multiplication table using while\n",
    "x=int(input())\n",
    "it=1\n",
    "while it<=10:\n",
    "    print(x,'x',it,'=',x*it)\n",
    "    it+=1"
   ]
  },
  {
   "cell_type": "markdown",
   "id": "8a4ad46f",
   "metadata": {},
   "source": [
    "##### Nested loops\n",
    "- running the loop within loop"
   ]
  },
  {
   "cell_type": "code",
   "execution_count": 3,
   "id": "049d01b5",
   "metadata": {
    "collapsed": true
   },
   "outputs": [
    {
     "name": "stdout",
     "output_type": "stream",
     "text": [
      "1 2 3 \n",
      "1 2 3 \n",
      "1 2 3 \n",
      "1 2 3 \n",
      "1 2 3 \n"
     ]
    }
   ],
   "source": [
    "# pattern like matrix/array(2d)\n",
    "for row in range(1,6):\n",
    "    for col in range(1,4):\n",
    "        print(col,end=\" \")\n",
    "    print()"
   ]
  },
  {
   "cell_type": "code",
   "execution_count": 5,
   "id": "2b9ebfbc",
   "metadata": {
    "collapsed": true
   },
   "outputs": [
    {
     "name": "stdout",
     "output_type": "stream",
     "text": [
      "* * * \n",
      "* * * \n",
      "* * * \n",
      "* * * \n",
      "* * * \n"
     ]
    }
   ],
   "source": [
    "# pattern like matrix/array(2d)\n",
    "for row in range(1,6):#5times\n",
    "    for col in range(1,4): #3times in every iteration\n",
    "        print('*',end=\" \")\n",
    "    print()"
   ]
  },
  {
   "cell_type": "code",
   "execution_count": 6,
   "id": "e1263120",
   "metadata": {
    "collapsed": true
   },
   "outputs": [
    {
     "name": "stdout",
     "output_type": "stream",
     "text": [
      "1 \n",
      "1 2 \n",
      "1 2 3 \n",
      "1 2 3 4 \n",
      "1 2 3 4 5 \n"
     ]
    }
   ],
   "source": [
    "for row in range(1,6): # 1 2 3 4 5\n",
    "    for col in range(1,row+1):\n",
    "        print(col,end=\" \")\n",
    "    print()"
   ]
  },
  {
   "cell_type": "code",
   "execution_count": 7,
   "id": "bc493427",
   "metadata": {
    "collapsed": true
   },
   "outputs": [
    {
     "name": "stdout",
     "output_type": "stream",
     "text": [
      "* \n",
      "* * \n",
      "* * * \n",
      "* * * * \n",
      "* * * * * \n"
     ]
    }
   ],
   "source": [
    "for row in range(1,6):\n",
    "    for col in range(1,row+1):\n",
    "        print('*',end=\" \")\n",
    "    print()"
   ]
  },
  {
   "cell_type": "code",
   "execution_count": 9,
   "id": "48b7a6b8",
   "metadata": {
    "collapsed": true
   },
   "outputs": [
    {
     "name": "stdout",
     "output_type": "stream",
     "text": [
      "1\n",
      "2\n",
      "3\n",
      "4\n"
     ]
    }
   ],
   "source": [
    "for r in range(1,5):\n",
    "    print(r)"
   ]
  },
  {
   "cell_type": "code",
   "execution_count": null,
   "id": "022971ef",
   "metadata": {},
   "outputs": [],
   "source": []
  },
  {
   "cell_type": "code",
   "execution_count": 11,
   "id": "49cd01e2",
   "metadata": {
    "collapsed": true
   },
   "outputs": [
    {
     "name": "stdout",
     "output_type": "stream",
     "text": [
      "\n",
      "* \n",
      "* * \n",
      "* * * \n",
      "* * * * \n"
     ]
    }
   ],
   "source": [
    "for row in range(1,6):\n",
    "    for col in range(1,6):\n",
    "        if col<row:\n",
    "            print('*',end=\" \")\n",
    "    print()"
   ]
  },
  {
   "cell_type": "code",
   "execution_count": 13,
   "id": "bd749678",
   "metadata": {
    "collapsed": true
   },
   "outputs": [
    {
     "name": "stdout",
     "output_type": "stream",
     "text": [
      "* * * * \n",
      "* * * \n",
      "* * \n",
      "* \n",
      "\n"
     ]
    }
   ],
   "source": [
    "for row in range(1,6):\n",
    "    for col in range(1,6):\n",
    "        if row<col:\n",
    "            print('*',end=\" \")\n",
    "    print()"
   ]
  },
  {
   "cell_type": "code",
   "execution_count": 14,
   "id": "74596f7f",
   "metadata": {
    "collapsed": true
   },
   "outputs": [
    {
     "name": "stdout",
     "output_type": "stream",
     "text": [
      "# * * * * \n",
      "@ # * * * \n",
      "@ @ # * * \n",
      "@ @ @ # * \n",
      "@ @ @ @ # \n"
     ]
    }
   ],
   "source": [
    "for row in range(1,6):\n",
    "    for col in range(1,6):\n",
    "        if row==col:\n",
    "            print(\"#\",end=\" \")\n",
    "        elif row>col:\n",
    "            print('@',end=\" \")\n",
    "        else:\n",
    "            print('*',end=\" \")\n",
    "    print()"
   ]
  },
  {
   "cell_type": "code",
   "execution_count": 18,
   "id": "674dac57",
   "metadata": {
    "collapsed": true
   },
   "outputs": [
    {
     "name": "stdout",
     "output_type": "stream",
     "text": [
      "# * * * * * \n",
      "@ # * * * * \n",
      "@ @ # * * * \n",
      "@ @ @ # * * \n",
      "@ @ @ @ # * \n",
      "@ @ @ @ @ # \n"
     ]
    }
   ],
   "source": [
    "#using while  \n",
    "row=1\n",
    "while row<=6:\n",
    "    col=1\n",
    "    while col<=6:\n",
    "        if row==col:\n",
    "            print('#',end=\" \")\n",
    "        elif row<col:\n",
    "            print('*',end=\" \")\n",
    "        else:\n",
    "            print('@',end=\" \")\n",
    "        col+=1\n",
    "    print()\n",
    "    row+=1"
   ]
  },
  {
   "cell_type": "code",
   "execution_count": 21,
   "id": "16191f83",
   "metadata": {
    "collapsed": true
   },
   "outputs": [
    {
     "name": "stdout",
     "output_type": "stream",
     "text": [
      "1\n",
      "100\n",
      "1 2 3 5 7 11 13 17 19 23 29 31 37 41 43 47 53 59 61 67 71 73 79 83 89 97 "
     ]
    }
   ],
   "source": [
    "#prime no.s present in a range\n",
    "lw,up=int(input()),int(input())\n",
    "if lw==2:\n",
    "    print(lw)\n",
    "    lw+=1\n",
    "while lw<=up:\n",
    "    v=0\n",
    "    i=2\n",
    "    while i<lw:\n",
    "        if lw%i==0:\n",
    "            v=1\n",
    "            break\n",
    "        i+=1\n",
    "    if v==0:\n",
    "        print(lw,end=\" \")\n",
    "    lw+=1\n"
   ]
  },
  {
   "cell_type": "markdown",
   "id": "4339f025",
   "metadata": {},
   "source": [
    "##### using for & while"
   ]
  },
  {
   "cell_type": "code",
   "execution_count": 23,
   "id": "41826575",
   "metadata": {},
   "outputs": [
    {
     "name": "stdout",
     "output_type": "stream",
     "text": [
      "1\n",
      "100\n",
      "2 3 5 7 11 13 17 19 23 29 31 37 41 43 47 53 59 61 67 71 73 79 83 89 97 "
     ]
    }
   ],
   "source": [
    "lw,up=int(input()),int(input())\n",
    "for dig in range(lw,up+1):\n",
    "    count=0\n",
    "    for val in range(1,dig//2+1):\n",
    "        if dig%val==0:\n",
    "            count+=1\n",
    "    if count==1:\n",
    "        print(dig,end=\" \")"
   ]
  },
  {
   "cell_type": "code",
   "execution_count": 24,
   "id": "ad219d04",
   "metadata": {
    "collapsed": true
   },
   "outputs": [
    {
     "name": "stdout",
     "output_type": "stream",
     "text": [
      "1\n",
      "100\n",
      "2 3 5 7 11 13 17 19 23 29 31 37 41 43 47 53 59 61 67 71 73 79 83 89 97 "
     ]
    }
   ],
   "source": [
    "f,s=int(input()),int(input())\n",
    "while f<=s:\n",
    "    fc=0\n",
    "    it=1\n",
    "    while it<=f:\n",
    "        if f%it==0:\n",
    "            fc+=1\n",
    "        it+=1\n",
    "    if fc==2:\n",
    "        print(f,end=\" \")\n",
    "    f+=1"
   ]
  },
  {
   "cell_type": "markdown",
   "id": "0870a898",
   "metadata": {},
   "source": [
    "#### Functions\n",
    "- block of code written to perform specific task\n",
    "- set of statements executed to perform perticular task\n",
    "- 2types of functions\n",
    "    1. predefined/in built functions\n",
    "        - these were defined when the language is developed\n",
    "        - we can simply call and use those functions\n",
    "        - Ex:print()->to display the output\n",
    "        - input()->reads the str data from user\n",
    "        - int()->converts value into integer\n",
    "        - bool() checks the boolean possibility of values\n",
    "        - bin()-->gives the binary format of int value\n",
    "        - type()->checks the datatype of var\n",
    "        - len()->length of iterable\n",
    "        - etc..\n",
    "    2. user defined functions\n",
    "        - defined by the user/programmer\n",
    "- **syntax**\n",
    "    - def keyword represents the function block\n",
    "    - def function_name(arguments):\n",
    "        - statements goes here\n",
    "        - return keyword\n",
    "        \n",
    "- functions are used to reuse the code\n",
    "- we have function definition and\n",
    "    - the definition/purpose of defining the code\n",
    "    - var used in fun def called as arguments\n",
    "- function call\n",
    "    - using the function\n",
    "    - var used here is called as parameters"
   ]
  },
  {
   "cell_type": "code",
   "execution_count": 25,
   "id": "ea6aff81",
   "metadata": {},
   "outputs": [],
   "source": [
    "def example():\n",
    "    pass # works like place holder\n",
    "\n",
    "example()"
   ]
  },
  {
   "cell_type": "code",
   "execution_count": 28,
   "id": "a4486dac",
   "metadata": {
    "collapsed": true
   },
   "outputs": [
    {
     "name": "stdout",
     "output_type": "stream",
     "text": [
      "9\n"
     ]
    },
    {
     "data": {
      "text/plain": [
       "19"
      ]
     },
     "execution_count": 28,
     "metadata": {},
     "output_type": "execute_result"
    }
   ],
   "source": [
    "#4ways to create user defined fun\n",
    "#fun with args and with return\n",
    "def first(a,b):\n",
    "    return a+b\n",
    "\n",
    "a,b=int(input()),10#global var\n",
    "first(a,b)"
   ]
  },
  {
   "cell_type": "code",
   "execution_count": 29,
   "id": "d1a7f883",
   "metadata": {},
   "outputs": [
    {
     "name": "stdout",
     "output_type": "stream",
     "text": [
      "summation= 40\n"
     ]
    }
   ],
   "source": [
    "print('summation=',first(10,30))"
   ]
  },
  {
   "cell_type": "code",
   "execution_count": 30,
   "id": "67b54fb1",
   "metadata": {},
   "outputs": [
    {
     "name": "stdout",
     "output_type": "stream",
     "text": [
      "second is greater\n"
     ]
    }
   ],
   "source": [
    "#fun with args and without return\n",
    "def second(x,y,z):\n",
    "    if x>y and x>z:\n",
    "        print('first value is greater')\n",
    "    elif y>x and y>z:\n",
    "        print('second is greater')\n",
    "    else:\n",
    "        print('third is greater')\n",
    "        \n",
    "second(9,56,12)"
   ]
  },
  {
   "cell_type": "code",
   "execution_count": 31,
   "id": "e699dacb",
   "metadata": {
    "collapsed": true
   },
   "outputs": [
    {
     "name": "stdout",
     "output_type": "stream",
     "text": [
      "string:I am Raviteja\n"
     ]
    },
    {
     "data": {
      "text/plain": [
       "13"
      ]
     },
     "execution_count": 31,
     "metadata": {},
     "output_type": "execute_result"
    }
   ],
   "source": [
    "#function without args and with return\n",
    "def length():\n",
    "    st=input('string:')#local var\n",
    "    return len(st)\n",
    "\n",
    "length()\n"
   ]
  },
  {
   "cell_type": "code",
   "execution_count": 32,
   "id": "1193053c",
   "metadata": {
    "collapsed": true
   },
   "outputs": [
    {
     "ename": "NameError",
     "evalue": "name 'st' is not defined",
     "output_type": "error",
     "traceback": [
      "\u001b[1;31m---------------------------------------------------------------------------\u001b[0m",
      "\u001b[1;31mNameError\u001b[0m                                 Traceback (most recent call last)",
      "\u001b[1;32m~\\AppData\\Local\\Temp/ipykernel_10084/2638675277.py\u001b[0m in \u001b[0;36m<module>\u001b[1;34m\u001b[0m\n\u001b[1;32m----> 1\u001b[1;33m \u001b[0mst\u001b[0m\u001b[1;33m\u001b[0m\u001b[1;33m\u001b[0m\u001b[0m\n\u001b[0m",
      "\u001b[1;31mNameError\u001b[0m: name 'st' is not defined"
     ]
    }
   ],
   "source": [
    "st"
   ]
  },
  {
   "cell_type": "code",
   "execution_count": 34,
   "id": "cde7e641",
   "metadata": {},
   "outputs": [
    {
     "name": "stdout",
     "output_type": "stream",
     "text": [
      "6\n",
      "perfect number\n"
     ]
    }
   ],
   "source": [
    "#funtion without args and without return\n",
    "def program():\n",
    "    sm=0\n",
    "    for dig in range(1,n//2+1):\n",
    "        if n%dig==0:\n",
    "            sm+=dig\n",
    "    if sm==n:\n",
    "        print('perfect number')\n",
    "    else:\n",
    "        print('not perfect')\n",
    "        \n",
    "n=int(input())\n",
    "program()"
   ]
  },
  {
   "cell_type": "markdown",
   "id": "4b49e92a",
   "metadata": {},
   "source": [
    "6:1+2+3=6\n",
    "    28=1+2+4+7+14=28"
   ]
  },
  {
   "cell_type": "code",
   "execution_count": 46,
   "id": "ec905dee",
   "metadata": {
    "collapsed": true
   },
   "outputs": [
    {
     "name": "stdout",
     "output_type": "stream",
     "text": [
      "yyy\n",
      "yyy\n",
      "yyy\n",
      "yyy\n",
      "yyy\n",
      "xxx\n",
      "yyy\n",
      "yyy\n",
      "yyy\n",
      "yyy\n",
      "yyy\n",
      "yyy\n",
      "yyy\n",
      "yyy\n",
      "yyy\n",
      "yyy\n",
      "yyy\n",
      "yyy\n",
      "yyy\n",
      "yyy\n",
      "yyy\n",
      "yyy\n",
      "yyy\n",
      "yyy\n",
      "yyy\n",
      "yyy\n",
      "yyy\n",
      "xxx\n",
      "yyy\n",
      "yyy\n",
      "yyy\n",
      "yyy\n",
      "yyy\n",
      "yyy\n",
      "yyy\n",
      "yyy\n",
      "yyy\n",
      "yyy\n",
      "yyy\n",
      "yyy\n",
      "yyy\n",
      "yyy\n",
      "yyy\n",
      "yyy\n",
      "yyy\n",
      "yyy\n",
      "yyy\n",
      "yyy\n",
      "yyy\n",
      "yyy\n",
      "yyy\n",
      "yyy\n",
      "yyy\n",
      "yyy\n",
      "yyy\n",
      "yyy\n",
      "yyy\n",
      "yyy\n",
      "yyy\n",
      "yyy\n",
      "yyy\n",
      "yyy\n",
      "yyy\n",
      "yyy\n",
      "yyy\n",
      "yyy\n",
      "yyy\n",
      "yyy\n",
      "yyy\n",
      "yyy\n",
      "yyy\n",
      "yyy\n",
      "yyy\n",
      "yyy\n",
      "yyy\n",
      "yyy\n",
      "yyy\n",
      "yyy\n",
      "yyy\n",
      "yyy\n",
      "yyy\n",
      "yyy\n",
      "yyy\n",
      "yyy\n",
      "yyy\n",
      "yyy\n",
      "yyy\n",
      "yyy\n",
      "yyy\n",
      "yyy\n",
      "yyy\n",
      "yyy\n",
      "yyy\n",
      "yyy\n",
      "yyy\n",
      "yyy\n",
      "yyy\n",
      "yyy\n",
      "yyy\n",
      "yyy\n",
      "yyy\n",
      "yyy\n",
      "yyy\n",
      "yyy\n",
      "yyy\n",
      "yyy\n",
      "yyy\n",
      "yyy\n",
      "yyy\n",
      "yyy\n",
      "yyy\n",
      "yyy\n",
      "yyy\n",
      "yyy\n",
      "yyy\n",
      "yyy\n",
      "yyy\n",
      "yyy\n",
      "yyy\n",
      "yyy\n",
      "yyy\n",
      "yyy\n",
      "yyy\n",
      "yyy\n",
      "yyy\n",
      "yyy\n",
      "yyy\n",
      "yyy\n",
      "yyy\n",
      "yyy\n",
      "yyy\n",
      "yyy\n",
      "yyy\n",
      "yyy\n",
      "yyy\n",
      "yyy\n",
      "yyy\n",
      "yyy\n",
      "yyy\n",
      "yyy\n",
      "yyy\n",
      "yyy\n",
      "yyy\n",
      "yyy\n",
      "yyy\n",
      "yyy\n",
      "yyy\n",
      "yyy\n",
      "yyy\n",
      "yyy\n",
      "yyy\n",
      "yyy\n",
      "yyy\n",
      "yyy\n",
      "yyy\n",
      "yyy\n",
      "yyy\n",
      "yyy\n",
      "yyy\n",
      "yyy\n",
      "yyy\n",
      "yyy\n",
      "yyy\n",
      "yyy\n",
      "yyy\n",
      "yyy\n",
      "yyy\n",
      "yyy\n",
      "yyy\n",
      "yyy\n",
      "yyy\n",
      "yyy\n",
      "yyy\n",
      "yyy\n",
      "yyy\n",
      "yyy\n",
      "yyy\n",
      "yyy\n",
      "yyy\n",
      "yyy\n",
      "yyy\n",
      "yyy\n",
      "yyy\n",
      "yyy\n",
      "yyy\n",
      "yyy\n",
      "yyy\n",
      "yyy\n",
      "yyy\n",
      "yyy\n",
      "yyy\n",
      "yyy\n",
      "yyy\n",
      "yyy\n",
      "yyy\n",
      "yyy\n",
      "yyy\n",
      "yyy\n",
      "yyy\n",
      "yyy\n",
      "yyy\n",
      "yyy\n",
      "yyy\n",
      "yyy\n",
      "yyy\n",
      "yyy\n",
      "yyy\n",
      "yyy\n",
      "yyy\n",
      "yyy\n",
      "yyy\n",
      "yyy\n",
      "yyy\n",
      "yyy\n",
      "yyy\n",
      "yyy\n",
      "yyy\n",
      "yyy\n",
      "yyy\n",
      "yyy\n",
      "yyy\n",
      "yyy\n",
      "yyy\n",
      "yyy\n",
      "yyy\n",
      "yyy\n",
      "yyy\n",
      "yyy\n",
      "yyy\n",
      "yyy\n",
      "yyy\n",
      "yyy\n",
      "yyy\n",
      "yyy\n",
      "yyy\n",
      "yyy\n",
      "yyy\n",
      "yyy\n",
      "yyy\n",
      "yyy\n",
      "yyy\n",
      "yyy\n",
      "yyy\n",
      "yyy\n",
      "yyy\n",
      "yyy\n",
      "yyy\n",
      "yyy\n",
      "yyy\n",
      "yyy\n",
      "yyy\n",
      "yyy\n",
      "yyy\n",
      "yyy\n",
      "yyy\n",
      "yyy\n",
      "yyy\n",
      "yyy\n",
      "yyy\n",
      "yyy\n",
      "yyy\n",
      "yyy\n",
      "yyy\n",
      "yyy\n",
      "yyy\n",
      "yyy\n",
      "yyy\n",
      "yyy\n",
      "yyy\n",
      "yyy\n",
      "yyy\n",
      "yyy\n",
      "yyy\n",
      "yyy\n",
      "yyy\n",
      "yyy\n",
      "yyy\n",
      "yyy\n",
      "yyy\n",
      "yyy\n",
      "yyy\n",
      "yyy\n",
      "yyy\n",
      "yyy\n",
      "yyy\n",
      "yyy\n",
      "yyy\n",
      "yyy\n",
      "yyy\n",
      "yyy\n",
      "yyy\n",
      "yyy\n",
      "yyy\n",
      "yyy\n",
      "yyy\n",
      "yyy\n",
      "yyy\n",
      "yyy\n",
      "yyy\n",
      "yyy\n",
      "yyy\n",
      "yyy\n",
      "yyy\n",
      "yyy\n",
      "yyy\n",
      "yyy\n",
      "yyy\n",
      "yyy\n",
      "yyy\n",
      "yyy\n",
      "yyy\n",
      "yyy\n",
      "yyy\n",
      "yyy\n",
      "yyy\n",
      "yyy\n",
      "yyy\n",
      "yyy\n",
      "yyy\n",
      "yyy\n",
      "yyy\n",
      "yyy\n",
      "yyy\n",
      "yyy\n",
      "yyy\n",
      "yyy\n",
      "yyy\n",
      "yyy\n",
      "yyy\n",
      "yyy\n",
      "yyy\n",
      "yyy\n",
      "yyy\n",
      "yyy\n",
      "yyy\n",
      "yyy\n",
      "yyy\n",
      "yyy\n",
      "yyy\n",
      "yyy\n",
      "yyy\n",
      "yyy\n",
      "yyy\n",
      "yyy\n",
      "yyy\n",
      "yyy\n",
      "yyy\n",
      "yyy\n",
      "yyy\n",
      "yyy\n",
      "yyy\n",
      "yyy\n",
      "yyy\n",
      "yyy\n",
      "yyy\n",
      "yyy\n",
      "yyy\n",
      "yyy\n",
      "yyy\n",
      "yyy\n",
      "yyy\n",
      "yyy\n",
      "yyy\n",
      "yyy\n",
      "yyy\n",
      "yyy\n",
      "yyy\n",
      "yyy\n",
      "yyy\n",
      "yyy\n",
      "yyy\n",
      "yyy\n",
      "yyy\n",
      "yyy\n",
      "yyy\n",
      "yyy\n",
      "yyy\n",
      "yyy\n",
      "yyy\n",
      "yyy\n",
      "yyy\n",
      "yyy\n",
      "yyy\n",
      "yyy\n",
      "yyy\n",
      "yyy\n",
      "yyy\n",
      "yyy\n",
      "yyy\n",
      "yyy\n",
      "yyy\n",
      "yyy\n",
      "yyy\n",
      "yyy\n",
      "yyy\n",
      "yyy\n",
      "yyy\n",
      "yyy\n",
      "yyy\n",
      "yyy\n",
      "yyy\n",
      "yyy\n",
      "yyy\n",
      "yyy\n",
      "yyy\n",
      "yyy\n",
      "yyy\n",
      "yyy\n",
      "yyy\n",
      "yyy\n",
      "yyy\n",
      "yyy\n",
      "yyy\n",
      "yyy\n",
      "yyy\n",
      "yyy\n",
      "yyy\n",
      "yyy\n",
      "yyy\n",
      "yyy\n",
      "yyy\n",
      "yyy\n",
      "yyy\n",
      "yyy\n",
      "yyy\n",
      "yyy\n",
      "yyy\n",
      "yyy\n",
      "yyy\n",
      "yyy\n",
      "yyy\n",
      "yyy\n",
      "yyy\n",
      "yyy\n",
      "yyy\n",
      "yyy\n",
      "yyy\n",
      "yyy\n",
      "yyy\n",
      "yyy\n",
      "yyy\n",
      "yyy\n",
      "yyy\n",
      "yyy\n",
      "yyy\n",
      "yyy\n",
      "yyy\n",
      "yyy\n",
      "yyy\n",
      "yyy\n",
      "yyy\n",
      "yyy\n",
      "yyy\n",
      "yyy\n",
      "yyy\n",
      "yyy\n",
      "yyy\n",
      "yyy\n",
      "yyy\n",
      "yyy\n",
      "yyy\n",
      "yyy\n",
      "yyy\n",
      "yyy\n",
      "yyy\n",
      "yyy\n",
      "yyy\n",
      "yyy\n",
      "yyy\n",
      "yyy\n",
      "yyy\n",
      "yyy\n",
      "yyy\n",
      "yyy\n",
      "yyy\n",
      "yyy\n",
      "yyy\n",
      "yyy\n",
      "yyy\n",
      "yyy\n",
      "yyy\n",
      "yyy\n",
      "yyy\n",
      "yyy\n",
      "yyy\n",
      "yyy\n",
      "yyy\n",
      "yyy\n",
      "yyy\n",
      "yyy\n",
      "yyy\n",
      "yyy\n",
      "yyy\n",
      "yyy\n",
      "yyy\n",
      "xxx\n",
      "yyy\n",
      "yyy\n",
      "yyy\n",
      "yyy\n",
      "yyy\n",
      "yyy\n",
      "yyy\n",
      "yyy\n",
      "yyy\n",
      "yyy\n",
      "yyy\n",
      "yyy\n",
      "yyy\n",
      "yyy\n",
      "yyy\n",
      "yyy\n",
      "yyy\n",
      "yyy\n",
      "yyy\n",
      "yyy\n",
      "yyy\n",
      "yyy\n",
      "yyy\n",
      "yyy\n",
      "yyy\n",
      "yyy\n",
      "yyy\n",
      "yyy\n",
      "yyy\n",
      "yyy\n",
      "yyy\n",
      "yyy\n",
      "yyy\n",
      "yyy\n",
      "yyy\n",
      "yyy\n",
      "yyy\n",
      "yyy\n",
      "yyy\n",
      "yyy\n",
      "yyy\n",
      "yyy\n",
      "yyy\n",
      "yyy\n",
      "yyy\n",
      "yyy\n",
      "yyy\n",
      "yyy\n",
      "yyy\n",
      "yyy\n",
      "yyy\n",
      "yyy\n",
      "yyy\n",
      "yyy\n",
      "yyy\n",
      "yyy\n",
      "yyy\n",
      "yyy\n",
      "yyy\n",
      "yyy\n",
      "yyy\n",
      "yyy\n",
      "yyy\n",
      "yyy\n",
      "yyy\n",
      "yyy\n",
      "yyy\n",
      "yyy\n",
      "yyy\n",
      "yyy\n",
      "yyy\n",
      "yyy\n",
      "yyy\n",
      "yyy\n",
      "yyy\n",
      "yyy\n",
      "yyy\n",
      "yyy\n",
      "yyy\n",
      "yyy\n",
      "yyy\n",
      "yyy\n",
      "yyy\n",
      "yyy\n",
      "yyy\n",
      "yyy\n",
      "yyy\n",
      "yyy\n",
      "yyy\n",
      "yyy\n",
      "yyy\n",
      "yyy\n",
      "yyy\n",
      "yyy\n",
      "yyy\n",
      "yyy\n",
      "yyy\n",
      "yyy\n",
      "yyy\n",
      "yyy\n",
      "yyy\n",
      "yyy\n",
      "yyy\n",
      "yyy\n",
      "yyy\n",
      "yyy\n",
      "yyy\n",
      "yyy\n",
      "yyy\n",
      "yyy\n",
      "yyy\n",
      "yyy\n",
      "yyy\n",
      "yyy\n",
      "yyy\n",
      "yyy\n",
      "yyy\n",
      "yyy\n",
      "yyy\n",
      "yyy\n",
      "yyy\n",
      "yyy\n",
      "yyy\n",
      "yyy\n",
      "yyy\n",
      "yyy\n",
      "yyy\n",
      "yyy\n",
      "yyy\n",
      "yyy\n",
      "yyy\n",
      "yyy\n",
      "yyy\n",
      "yyy\n",
      "yyy\n",
      "yyy\n",
      "yyy\n",
      "yyy\n",
      "yyy\n",
      "yyy\n",
      "yyy\n",
      "yyy\n",
      "yyy\n",
      "yyy\n",
      "yyy\n",
      "yyy\n",
      "yyy\n",
      "yyy\n",
      "yyy\n",
      "yyy\n",
      "yyy\n",
      "yyy\n",
      "yyy\n",
      "yyy\n",
      "yyy\n",
      "yyy\n",
      "yyy\n",
      "yyy\n",
      "yyy\n",
      "yyy\n",
      "yyy\n",
      "yyy\n",
      "yyy\n",
      "yyy\n",
      "yyy\n",
      "yyy\n",
      "yyy\n",
      "yyy\n",
      "yyy\n",
      "yyy\n",
      "yyy\n",
      "yyy\n",
      "yyy\n",
      "yyy\n",
      "yyy\n",
      "yyy\n",
      "yyy\n",
      "yyy\n",
      "yyy\n",
      "yyy\n",
      "yyy\n",
      "yyy\n",
      "yyy\n",
      "yyy\n",
      "yyy\n",
      "yyy\n",
      "yyy\n",
      "yyy\n",
      "yyy\n",
      "yyy\n",
      "yyy\n",
      "yyy\n",
      "yyy\n",
      "yyy\n",
      "yyy\n",
      "yyy\n",
      "yyy\n",
      "yyy\n",
      "yyy\n",
      "yyy\n",
      "yyy\n",
      "yyy\n",
      "yyy\n",
      "yyy\n",
      "yyy\n",
      "yyy\n",
      "yyy\n",
      "yyy\n",
      "yyy\n",
      "yyy\n",
      "yyy\n",
      "yyy\n",
      "yyy\n",
      "yyy\n",
      "yyy\n",
      "yyy\n",
      "yyy\n",
      "yyy\n",
      "yyy\n",
      "yyy\n",
      "yyy\n",
      "yyy\n",
      "yyy\n",
      "yyy\n",
      "yyy\n",
      "yyy\n",
      "yyy\n",
      "yyy\n",
      "yyy\n",
      "yyy\n",
      "yyy\n",
      "yyy\n",
      "yyy\n",
      "yyy\n",
      "yyy\n",
      "yyy\n",
      "yyy\n",
      "yyy\n",
      "yyy\n",
      "yyy\n",
      "yyy\n",
      "yyy\n",
      "yyy\n",
      "yyy\n",
      "yyy\n",
      "yyy\n",
      "yyy\n",
      "yyy\n",
      "yyy\n",
      "yyy\n",
      "yyy\n",
      "yyy\n",
      "yyy\n",
      "yyy\n",
      "yyy\n",
      "yyy\n",
      "yyy\n",
      "yyy\n",
      "yyy\n",
      "yyy\n",
      "yyy\n",
      "yyy\n",
      "yyy\n",
      "yyy\n",
      "yyy\n",
      "yyy\n",
      "yyy\n",
      "yyy\n",
      "yyy\n",
      "yyy\n",
      "yyy\n",
      "yyy\n",
      "yyy\n",
      "yyy\n",
      "yyy\n",
      "yyy\n",
      "yyy\n",
      "yyy\n",
      "yyy\n",
      "yyy\n",
      "yyy\n",
      "yyy\n",
      "yyy\n",
      "yyy\n",
      "yyy\n",
      "yyy\n",
      "yyy\n",
      "yyy\n",
      "yyy\n",
      "yyy\n",
      "yyy\n",
      "yyy\n",
      "yyy\n",
      "yyy\n",
      "yyy\n",
      "yyy\n",
      "yyy\n",
      "yyy\n",
      "yyy\n",
      "yyy\n",
      "yyy\n",
      "yyy\n",
      "yyy\n",
      "yyy\n",
      "yyy\n",
      "yyy\n",
      "yyy\n",
      "yyy\n",
      "yyy\n",
      "yyy\n",
      "yyy\n",
      "yyy\n",
      "yyy\n",
      "yyy\n",
      "yyy\n",
      "yyy\n",
      "yyy\n",
      "yyy\n",
      "yyy\n",
      "yyy\n",
      "yyy\n",
      "yyy\n",
      "yyy\n",
      "yyy\n",
      "yyy\n",
      "yyy\n",
      "yyy\n",
      "yyy\n",
      "yyy\n",
      "yyy\n",
      "yyy\n",
      "yyy\n",
      "yyy\n",
      "yyy\n",
      "yyy\n",
      "yyy\n",
      "yyy\n",
      "yyy\n",
      "yyy\n",
      "yyy\n",
      "yyy\n",
      "yyy\n",
      "yyy\n",
      "yyy\n",
      "yyy\n",
      "yyy\n",
      "yyy\n",
      "yyy\n",
      "yyy\n",
      "yyy\n",
      "yyy\n",
      "yyy\n",
      "yyy\n",
      "yyy\n",
      "yyy\n",
      "yyy\n",
      "yyy\n",
      "yyy\n",
      "yyy\n",
      "yyy\n",
      "yyy\n",
      "yyy\n",
      "yyy\n",
      "yyy\n",
      "yyy\n",
      "yyy\n",
      "yyy\n",
      "yyy\n",
      "yyy\n",
      "yyy\n",
      "yyy\n",
      "yyy\n",
      "yyy\n",
      "yyy\n",
      "yyy\n",
      "yyy\n",
      "yyy\n",
      "yyy\n",
      "yyy\n",
      "yyy\n",
      "yyy\n",
      "yyy\n",
      "yyy\n",
      "yyy\n",
      "yyy\n",
      "yyy\n",
      "yyy\n",
      "yyy\n",
      "yyy\n",
      "yyy\n",
      "yyy\n",
      "yyy\n",
      "yyy\n",
      "yyy\n",
      "yyy\n",
      "yyy\n",
      "yyy\n",
      "yyy\n",
      "yyy\n",
      "yyy\n",
      "yyy\n",
      "yyy\n",
      "yyy\n",
      "yyy\n",
      "yyy\n",
      "yyy\n",
      "yyy\n",
      "yyy\n",
      "yyy\n",
      "yyy\n",
      "yyy\n",
      "yyy\n",
      "yyy\n",
      "yyy\n",
      "yyy\n",
      "yyy\n",
      "yyy\n",
      "yyy\n",
      "yyy\n",
      "yyy\n",
      "yyy\n",
      "yyy\n",
      "yyy\n",
      "yyy\n",
      "yyy\n",
      "yyy\n",
      "yyy\n",
      "yyy\n",
      "yyy\n",
      "yyy\n",
      "yyy\n",
      "yyy\n",
      "yyy\n",
      "yyy\n",
      "yyy\n",
      "yyy\n",
      "yyy\n",
      "yyy\n",
      "yyy\n",
      "yyy\n",
      "yyy\n",
      "yyy\n",
      "yyy\n",
      "yyy\n",
      "yyy\n",
      "yyy\n",
      "yyy\n",
      "yyy\n",
      "yyy\n",
      "yyy\n",
      "yyy\n",
      "yyy\n",
      "yyy\n",
      "yyy\n",
      "yyy\n",
      "yyy\n",
      "yyy\n",
      "yyy\n",
      "yyy\n",
      "yyy\n",
      "yyy\n",
      "yyy\n",
      "yyy\n",
      "yyy\n",
      "yyy\n",
      "yyy\n",
      "yyy\n",
      "yyy\n",
      "yyy\n",
      "yyy\n",
      "yyy\n",
      "yyy\n",
      "yyy\n",
      "yyy\n",
      "yyy\n",
      "yyy\n",
      "yyy\n",
      "yyy\n",
      "yyy\n",
      "yyy\n",
      "yyy\n",
      "yyy\n",
      "yyy\n",
      "yyy\n",
      "yyy\n",
      "yyy\n",
      "yyy\n",
      "yyy\n",
      "yyy\n",
      "yyy\n",
      "yyy\n",
      "yyy\n",
      "yyy\n",
      "yyy\n",
      "yyy\n",
      "yyy\n",
      "yyy\n",
      "yyy\n",
      "yyy\n",
      "yyy\n",
      "yyy\n",
      "yyy\n",
      "yyy\n",
      "yyy\n"
     ]
    }
   ],
   "source": [
    "#funtion without args and without return\n",
    "def program(n):\n",
    "    sm=0\n",
    "    for dig in range(1,n//2+1):\n",
    "        if n%dig==0:\n",
    "            sm+=dig\n",
    "    if sm==n:\n",
    "        print('xxx')\n",
    "    else:\n",
    "        print('yyy')\n",
    "        \n",
    "def perfect_range(lw,up):\n",
    "    while lw<=up:\n",
    "        if program(lw):\n",
    "            print(lw)\n",
    "        lw+=1\n",
    "        \n",
    "perfect_range(1,1000)"
   ]
  },
  {
   "cell_type": "code",
   "execution_count": 47,
   "id": "70b9e76d",
   "metadata": {},
   "outputs": [
    {
     "name": "stdout",
     "output_type": "stream",
     "text": [
      "perfect numbers are:6 28 496 "
     ]
    }
   ],
   "source": [
    "#funtion without args and without return\n",
    "def is_perfect(n):\n",
    "    sm=0\n",
    "    for dig in range(1,n//2+1):\n",
    "        if n%dig==0:\n",
    "            sm+=dig\n",
    "    if sm==n:\n",
    "        return True\n",
    "    else:\n",
    "        return False\n",
    "        \n",
    "def perfect_range(lw,up):\n",
    "    print('perfect numbers are',end=\":\")\n",
    "    while lw<=up:\n",
    "        if is_perfect(lw):\n",
    "            print(lw,end=\" \")\n",
    "        lw+=1\n",
    "        \n",
    "perfect_range(1,1000)"
   ]
  },
  {
   "cell_type": "code",
   "execution_count": 50,
   "id": "8947aeca",
   "metadata": {
    "collapsed": true
   },
   "outputs": [
    {
     "ename": "IndentationError",
     "evalue": "expected an indented block (Temp/ipykernel_10084/968025039.py, line 2)",
     "output_type": "error",
     "traceback": [
      "\u001b[1;36m  File \u001b[1;32m\"C:\\Users\\MPMC\\AppData\\Local\\Temp/ipykernel_10084/968025039.py\"\u001b[1;36m, line \u001b[1;32m2\u001b[0m\n\u001b[1;33m    def is_prime(n):\u001b[0m\n\u001b[1;37m                    ^\u001b[0m\n\u001b[1;31mIndentationError\u001b[0m\u001b[1;31m:\u001b[0m expected an indented block\n"
     ]
    }
   ],
   "source": [
    "#prime_range\n",
    "def is_prime(n):"
   ]
  },
  {
   "cell_type": "markdown",
   "id": "0542f9b8",
   "metadata": {},
   "source": [
    "#### strings\n",
    "- collection/group/array of chars\n",
    "- anything that is enclosed in quotation called as str\n",
    "- even a single char considered as string\n",
    "- str() pre defined that denotes the string\n",
    "- it is a dataype\n",
    "- we can use either '' or \"\" or '''''' to initiate the str\n",
    "- strings are immutable"
   ]
  },
  {
   "cell_type": "code",
   "execution_count": 51,
   "id": "c6f59b4d",
   "metadata": {
    "collapsed": true
   },
   "outputs": [
    {
     "name": "stdout",
     "output_type": "stream",
     "text": [
      "lksdflksdlkfk;ll\n"
     ]
    }
   ],
   "source": [
    "print('lksdflksdlkfk;ll')"
   ]
  },
  {
   "cell_type": "code",
   "execution_count": 52,
   "id": "25672ccb",
   "metadata": {
    "collapsed": true
   },
   "outputs": [
    {
     "name": "stdout",
     "output_type": "stream",
     "text": [
      "jdfkkdkfksdfk 'uuu' sjdhfjk\n"
     ]
    }
   ],
   "source": [
    "print(\"jdfkkdkfksdfk 'uuu' sjdhfjk\")"
   ]
  },
  {
   "cell_type": "code",
   "execution_count": 53,
   "id": "de187d15",
   "metadata": {
    "collapsed": true
   },
   "outputs": [
    {
     "name": "stdout",
     "output_type": "stream",
     "text": [
      "hi I am '''Ruthu''' \n"
     ]
    }
   ],
   "source": [
    "print(\"hi I am '''Ruthu''' \")"
   ]
  },
  {
   "cell_type": "code",
   "execution_count": 54,
   "id": "bbba6b02",
   "metadata": {
    "scrolled": true
   },
   "outputs": [
    {
     "data": {
      "text/plain": [
       "'9'"
      ]
     },
     "execution_count": 54,
     "metadata": {},
     "output_type": "execute_result"
    }
   ],
   "source": [
    "#string initiation\n",
    "str(9)"
   ]
  },
  {
   "cell_type": "code",
   "execution_count": 55,
   "id": "38db1a46",
   "metadata": {
    "collapsed": true
   },
   "outputs": [
    {
     "name": "stdout",
     "output_type": "stream",
     "text": [
      "I am ruthu\n"
     ]
    }
   ],
   "source": [
    "empty=\"\"\n",
    "print(\"I am\",empty+'ruthu')"
   ]
  },
  {
   "cell_type": "code",
   "execution_count": 56,
   "id": "310cbe9e",
   "metadata": {
    "collapsed": true
   },
   "outputs": [
    {
     "data": {
      "text/plain": [
       "'firstsecond'"
      ]
     },
     "execution_count": 56,
     "metadata": {},
     "output_type": "execute_result"
    }
   ],
   "source": [
    "'first'+'second'#str concatenation"
   ]
  },
  {
   "cell_type": "code",
   "execution_count": 57,
   "id": "abaa8595",
   "metadata": {
    "collapsed": true
   },
   "outputs": [
    {
     "data": {
      "text/plain": [
       "'1122'"
      ]
     },
     "execution_count": 57,
     "metadata": {},
     "output_type": "execute_result"
    }
   ],
   "source": [
    "str(11)+str(22)"
   ]
  },
  {
   "cell_type": "code",
   "execution_count": 59,
   "id": "6871d526",
   "metadata": {
    "collapsed": true
   },
   "outputs": [
    {
     "name": "stdout",
     "output_type": "stream",
     "text": [
      "Gudlavalleru Engineering Clg\n",
      "I am from Gudlavalleru Engineering Clg\n"
     ]
    }
   ],
   "source": [
    "#dynamic string from user\n",
    "clg=input()\n",
    "print(\"I am from\",clg)"
   ]
  },
  {
   "cell_type": "code",
   "execution_count": 60,
   "id": "ca32d471",
   "metadata": {
    "collapsed": true
   },
   "outputs": [
    {
     "data": {
      "text/plain": [
       "'Gudlavalleru Engineering Clg'"
      ]
     },
     "execution_count": 60,
     "metadata": {},
     "output_type": "execute_result"
    }
   ],
   "source": [
    "clg"
   ]
  },
  {
   "cell_type": "code",
   "execution_count": 62,
   "id": "7c1cbc2a",
   "metadata": {
    "collapsed": true
   },
   "outputs": [
    {
     "data": {
      "text/plain": [
       "28"
      ]
     },
     "execution_count": 62,
     "metadata": {},
     "output_type": "execute_result"
    }
   ],
   "source": [
    "len(clg)"
   ]
  },
  {
   "cell_type": "markdown",
   "id": "e4ef4c08",
   "metadata": {},
   "source": [
    "#### string accessing\n",
    "- accessing every char present in the string using index\n",
    "- index is nothing but memory representation/notation\n",
    "- index is of 2types\n",
    "    1. forward indexing\n",
    "        - it travers from left to right of the iterable\n",
    "        - starts from 0 to len(iterable)-1\n",
    "        - 0 to n-1\n",
    "    2. backward indexing\n",
    "        - travers from right to left\n",
    "        - starts from -1 to - infinite"
   ]
  },
  {
   "cell_type": "code",
   "execution_count": 63,
   "id": "77987848",
   "metadata": {
    "collapsed": true
   },
   "outputs": [
    {
     "data": {
      "text/plain": [
       "'G'"
      ]
     },
     "execution_count": 63,
     "metadata": {},
     "output_type": "execute_result"
    }
   ],
   "source": [
    "clg[0] # it gives the first char of clg"
   ]
  },
  {
   "cell_type": "code",
   "execution_count": 64,
   "id": "ce53fb65",
   "metadata": {
    "collapsed": true
   },
   "outputs": [
    {
     "data": {
      "text/plain": [
       "'u'"
      ]
     },
     "execution_count": 64,
     "metadata": {},
     "output_type": "execute_result"
    }
   ],
   "source": [
    "clg[1]#2nd char"
   ]
  },
  {
   "cell_type": "code",
   "execution_count": 65,
   "id": "2591c3ad",
   "metadata": {
    "collapsed": true
   },
   "outputs": [
    {
     "data": {
      "text/plain": [
       "'e'"
      ]
     },
     "execution_count": 65,
     "metadata": {},
     "output_type": "execute_result"
    }
   ],
   "source": [
    "clg[9]#10th char"
   ]
  },
  {
   "cell_type": "code",
   "execution_count": 66,
   "id": "d29a51dd",
   "metadata": {
    "collapsed": true
   },
   "outputs": [
    {
     "data": {
      "text/plain": [
       "'Gudlavalleru Engineering Clg'"
      ]
     },
     "execution_count": 66,
     "metadata": {},
     "output_type": "execute_result"
    }
   ],
   "source": [
    "clg[:]#represents entire iterable"
   ]
  },
  {
   "cell_type": "code",
   "execution_count": 67,
   "id": "36b5d9e0",
   "metadata": {
    "collapsed": true
   },
   "outputs": [
    {
     "data": {
      "text/plain": [
       "'Gudlavalleru Engineering Clg'"
      ]
     },
     "execution_count": 67,
     "metadata": {},
     "output_type": "execute_result"
    }
   ],
   "source": [
    "clg[::]"
   ]
  },
  {
   "cell_type": "code",
   "execution_count": 68,
   "id": "98c7691b",
   "metadata": {},
   "outputs": [
    {
     "data": {
      "text/plain": [
       "'g'"
      ]
     },
     "execution_count": 68,
     "metadata": {},
     "output_type": "execute_result"
    }
   ],
   "source": [
    "clg[-1]#last char of string"
   ]
  },
  {
   "cell_type": "code",
   "execution_count": 69,
   "id": "399349e6",
   "metadata": {
    "collapsed": true
   },
   "outputs": [
    {
     "name": "stdout",
     "output_type": "stream",
     "text": [
      "Gudlavalleru Engineering Clg\n"
     ]
    },
    {
     "data": {
      "text/plain": [
       "'C'"
      ]
     },
     "execution_count": 69,
     "metadata": {},
     "output_type": "execute_result"
    }
   ],
   "source": [
    "print(clg)\n",
    "clg[-3]#3rd char from last"
   ]
  },
  {
   "cell_type": "code",
   "execution_count": 70,
   "id": "228ca2f6",
   "metadata": {},
   "outputs": [],
   "source": [
    "#slicing :\n",
    "#extraction of sub string using the limits"
   ]
  },
  {
   "cell_type": "code",
   "execution_count": 74,
   "id": "2ef4ae8a",
   "metadata": {
    "collapsed": true
   },
   "outputs": [
    {
     "data": {
      "text/plain": [
       "'ring '"
      ]
     },
     "execution_count": 74,
     "metadata": {},
     "output_type": "execute_result"
    }
   ],
   "source": [
    "clg[20:25]"
   ]
  },
  {
   "cell_type": "code",
   "execution_count": 75,
   "id": "80dd2f84",
   "metadata": {
    "collapsed": true
   },
   "outputs": [
    {
     "data": {
      "text/plain": [
       "'Gudlavalleru Engineering Clg'"
      ]
     },
     "execution_count": 75,
     "metadata": {},
     "output_type": "execute_result"
    }
   ],
   "source": [
    "clg"
   ]
  },
  {
   "cell_type": "code",
   "execution_count": 76,
   "id": "d260fd4c",
   "metadata": {
    "collapsed": true
   },
   "outputs": [
    {
     "data": {
      "text/plain": [
       "'ring'"
      ]
     },
     "execution_count": 76,
     "metadata": {},
     "output_type": "execute_result"
    }
   ],
   "source": [
    "clg[-8:-4]"
   ]
  },
  {
   "cell_type": "code",
   "execution_count": 77,
   "id": "bdaa9652",
   "metadata": {
    "collapsed": true
   },
   "outputs": [
    {
     "data": {
      "text/plain": [
       "'Gdaalr niern l'"
      ]
     },
     "execution_count": 77,
     "metadata": {},
     "output_type": "execute_result"
    }
   ],
   "source": [
    "clg[::2]#alternate char in str"
   ]
  },
  {
   "cell_type": "code",
   "execution_count": 78,
   "id": "30560487",
   "metadata": {
    "collapsed": true
   },
   "outputs": [
    {
     "data": {
      "text/plain": [
       "'glC gnireenignE urellavalduG'"
      ]
     },
     "execution_count": 78,
     "metadata": {},
     "output_type": "execute_result"
    }
   ],
   "source": [
    "clg[::-1]#revere formatof the str"
   ]
  },
  {
   "cell_type": "code",
   "execution_count": 79,
   "id": "6b69cf6f",
   "metadata": {
    "collapsed": true
   },
   "outputs": [
    {
     "data": {
      "text/plain": [
       "'gCgiengEuelvlu'"
      ]
     },
     "execution_count": 79,
     "metadata": {},
     "output_type": "execute_result"
    }
   ],
   "source": [
    "clg[::-2]#alternate chars in reverse order"
   ]
  },
  {
   "cell_type": "code",
   "execution_count": 81,
   "id": "59e8b4b7",
   "metadata": {
    "collapsed": true
   },
   "outputs": [
    {
     "name": "stdout",
     "output_type": "stream",
     "text": [
      "G\n",
      "u\n",
      "d\n",
      "l\n",
      "a\n",
      "v\n",
      "a\n",
      "l\n",
      "l\n",
      "e\n",
      "r\n",
      "u\n",
      " \n",
      "E\n",
      "n\n",
      "g\n",
      "i\n",
      "n\n",
      "e\n",
      "e\n",
      "r\n",
      "i\n",
      "n\n",
      "g\n",
      " \n",
      "C\n",
      "l\n",
      "g\n"
     ]
    }
   ],
   "source": [
    "#string iteration\n",
    "for ch in clg:\n",
    "    print(ch)"
   ]
  },
  {
   "cell_type": "code",
   "execution_count": 82,
   "id": "6f6ca9e0",
   "metadata": {
    "collapsed": true
   },
   "outputs": [
    {
     "name": "stdout",
     "output_type": "stream",
     "text": [
      "G d a a l r   n i e r n   l "
     ]
    }
   ],
   "source": [
    "#using index\n",
    "for i in range(len(clg)):#28\n",
    "    #alternate chars\n",
    "    if i%2==0:\n",
    "        print(clg[i],end=\" \")"
   ]
  },
  {
   "cell_type": "code",
   "execution_count": 83,
   "id": "ec45c818",
   "metadata": {
    "collapsed": true
   },
   "outputs": [
    {
     "name": "stdout",
     "output_type": "stream",
     "text": [
      "G d a a l r   n i e r n   l "
     ]
    }
   ],
   "source": [
    "for ch in clg[::2]:\n",
    "    print(ch,end=\" \")"
   ]
  },
  {
   "cell_type": "markdown",
   "id": "28cba0a9",
   "metadata": {},
   "source": [
    "#### string methods\n",
    "- dir(string)"
   ]
  },
  {
   "cell_type": "code",
   "execution_count": 84,
   "id": "4bc5682b",
   "metadata": {
    "collapsed": true
   },
   "outputs": [
    {
     "data": {
      "text/plain": [
       "['__add__',\n",
       " '__class__',\n",
       " '__contains__',\n",
       " '__delattr__',\n",
       " '__dir__',\n",
       " '__doc__',\n",
       " '__eq__',\n",
       " '__format__',\n",
       " '__ge__',\n",
       " '__getattribute__',\n",
       " '__getitem__',\n",
       " '__getnewargs__',\n",
       " '__gt__',\n",
       " '__hash__',\n",
       " '__init__',\n",
       " '__init_subclass__',\n",
       " '__iter__',\n",
       " '__le__',\n",
       " '__len__',\n",
       " '__lt__',\n",
       " '__mod__',\n",
       " '__mul__',\n",
       " '__ne__',\n",
       " '__new__',\n",
       " '__reduce__',\n",
       " '__reduce_ex__',\n",
       " '__repr__',\n",
       " '__rmod__',\n",
       " '__rmul__',\n",
       " '__setattr__',\n",
       " '__sizeof__',\n",
       " '__str__',\n",
       " '__subclasshook__',\n",
       " 'capitalize',\n",
       " 'casefold',\n",
       " 'center',\n",
       " 'count',\n",
       " 'encode',\n",
       " 'endswith',\n",
       " 'expandtabs',\n",
       " 'find',\n",
       " 'format',\n",
       " 'format_map',\n",
       " 'index',\n",
       " 'isalnum',\n",
       " 'isalpha',\n",
       " 'isascii',\n",
       " 'isdecimal',\n",
       " 'isdigit',\n",
       " 'isidentifier',\n",
       " 'islower',\n",
       " 'isnumeric',\n",
       " 'isprintable',\n",
       " 'isspace',\n",
       " 'istitle',\n",
       " 'isupper',\n",
       " 'join',\n",
       " 'ljust',\n",
       " 'lower',\n",
       " 'lstrip',\n",
       " 'maketrans',\n",
       " 'partition',\n",
       " 'removeprefix',\n",
       " 'removesuffix',\n",
       " 'replace',\n",
       " 'rfind',\n",
       " 'rindex',\n",
       " 'rjust',\n",
       " 'rpartition',\n",
       " 'rsplit',\n",
       " 'rstrip',\n",
       " 'split',\n",
       " 'splitlines',\n",
       " 'startswith',\n",
       " 'strip',\n",
       " 'swapcase',\n",
       " 'title',\n",
       " 'translate',\n",
       " 'upper',\n",
       " 'zfill']"
      ]
     },
     "execution_count": 84,
     "metadata": {},
     "output_type": "execute_result"
    }
   ],
   "source": [
    "dir(str)"
   ]
  },
  {
   "cell_type": "code",
   "execution_count": 85,
   "id": "e810a97e",
   "metadata": {
    "collapsed": true
   },
   "outputs": [
    {
     "data": {
      "text/plain": [
       "['__add__',\n",
       " '__class__',\n",
       " '__contains__',\n",
       " '__delattr__',\n",
       " '__dir__',\n",
       " '__doc__',\n",
       " '__eq__',\n",
       " '__format__',\n",
       " '__ge__',\n",
       " '__getattribute__',\n",
       " '__getitem__',\n",
       " '__getnewargs__',\n",
       " '__gt__',\n",
       " '__hash__',\n",
       " '__init__',\n",
       " '__init_subclass__',\n",
       " '__iter__',\n",
       " '__le__',\n",
       " '__len__',\n",
       " '__lt__',\n",
       " '__mod__',\n",
       " '__mul__',\n",
       " '__ne__',\n",
       " '__new__',\n",
       " '__reduce__',\n",
       " '__reduce_ex__',\n",
       " '__repr__',\n",
       " '__rmod__',\n",
       " '__rmul__',\n",
       " '__setattr__',\n",
       " '__sizeof__',\n",
       " '__str__',\n",
       " '__subclasshook__',\n",
       " 'capitalize',\n",
       " 'casefold',\n",
       " 'center',\n",
       " 'count',\n",
       " 'encode',\n",
       " 'endswith',\n",
       " 'expandtabs',\n",
       " 'find',\n",
       " 'format',\n",
       " 'format_map',\n",
       " 'index',\n",
       " 'isalnum',\n",
       " 'isalpha',\n",
       " 'isascii',\n",
       " 'isdecimal',\n",
       " 'isdigit',\n",
       " 'isidentifier',\n",
       " 'islower',\n",
       " 'isnumeric',\n",
       " 'isprintable',\n",
       " 'isspace',\n",
       " 'istitle',\n",
       " 'isupper',\n",
       " 'join',\n",
       " 'ljust',\n",
       " 'lower',\n",
       " 'lstrip',\n",
       " 'maketrans',\n",
       " 'partition',\n",
       " 'removeprefix',\n",
       " 'removesuffix',\n",
       " 'replace',\n",
       " 'rfind',\n",
       " 'rindex',\n",
       " 'rjust',\n",
       " 'rpartition',\n",
       " 'rsplit',\n",
       " 'rstrip',\n",
       " 'split',\n",
       " 'splitlines',\n",
       " 'startswith',\n",
       " 'strip',\n",
       " 'swapcase',\n",
       " 'title',\n",
       " 'translate',\n",
       " 'upper',\n",
       " 'zfill']"
      ]
     },
     "execution_count": 85,
     "metadata": {},
     "output_type": "execute_result"
    }
   ],
   "source": [
    "dir(clg)"
   ]
  },
  {
   "cell_type": "code",
   "execution_count": 86,
   "id": "a8f5e212",
   "metadata": {
    "collapsed": true
   },
   "outputs": [
    {
     "data": {
      "text/plain": [
       "2"
      ]
     },
     "execution_count": 86,
     "metadata": {},
     "output_type": "execute_result"
    }
   ],
   "source": [
    "clg.count('a')#no.of occurences of a in clg"
   ]
  },
  {
   "cell_type": "code",
   "execution_count": 87,
   "id": "a7d9f670",
   "metadata": {
    "collapsed": true
   },
   "outputs": [
    {
     "name": "stdout",
     "output_type": "stream",
     "text": [
      "enter char:e\n"
     ]
    },
    {
     "data": {
      "text/plain": [
       "3"
      ]
     },
     "execution_count": 87,
     "metadata": {},
     "output_type": "execute_result"
    }
   ],
   "source": [
    "ch=input('enter char:')\n",
    "clg.count(ch)"
   ]
  },
  {
   "cell_type": "code",
   "execution_count": 89,
   "id": "3e296408",
   "metadata": {
    "collapsed": true
   },
   "outputs": [
    {
     "data": {
      "text/plain": [
       "'Gud ava  eru Engineering C g'"
      ]
     },
     "execution_count": 89,
     "metadata": {},
     "output_type": "execute_result"
    }
   ],
   "source": [
    "clg.replace('l',' ')#str.replace(old,new)"
   ]
  },
  {
   "cell_type": "code",
   "execution_count": 92,
   "id": "e6b05186",
   "metadata": {
    "collapsed": true
   },
   "outputs": [
    {
     "data": {
      "text/plain": [
       "True"
      ]
     },
     "execution_count": 92,
     "metadata": {},
     "output_type": "execute_result"
    }
   ],
   "source": [
    "clg[6].isalpha()"
   ]
  },
  {
   "cell_type": "code",
   "execution_count": 93,
   "id": "101b4c57",
   "metadata": {
    "collapsed": true
   },
   "outputs": [
    {
     "data": {
      "text/plain": [
       "3"
      ]
     },
     "execution_count": 93,
     "metadata": {},
     "output_type": "execute_result"
    }
   ],
   "source": [
    "clg.find('l')#index value of l"
   ]
  },
  {
   "cell_type": "code",
   "execution_count": 94,
   "id": "c2dd5cc8",
   "metadata": {
    "collapsed": true
   },
   "outputs": [
    {
     "data": {
      "text/plain": [
       "4"
      ]
     },
     "execution_count": 94,
     "metadata": {},
     "output_type": "execute_result"
    }
   ],
   "source": [
    "clg.count('l')"
   ]
  },
  {
   "cell_type": "code",
   "execution_count": 95,
   "id": "42ece28a",
   "metadata": {},
   "outputs": [
    {
     "data": {
      "text/plain": [
       "True"
      ]
     },
     "execution_count": 95,
     "metadata": {},
     "output_type": "execute_result"
    }
   ],
   "source": [
    "'123@gec'[2].isdigit()"
   ]
  },
  {
   "cell_type": "code",
   "execution_count": 96,
   "id": "fe35d7df",
   "metadata": {
    "collapsed": true
   },
   "outputs": [
    {
     "data": {
      "text/plain": [
       "True"
      ]
     },
     "execution_count": 96,
     "metadata": {},
     "output_type": "execute_result"
    }
   ],
   "source": [
    "'123@gec'[1].isnumeric()"
   ]
  },
  {
   "cell_type": "code",
   "execution_count": 99,
   "id": "bcbfa60d",
   "metadata": {
    "collapsed": true
   },
   "outputs": [
    {
     "data": {
      "text/plain": [
       "True"
      ]
     },
     "execution_count": 99,
     "metadata": {},
     "output_type": "execute_result"
    }
   ],
   "source": [
    "clg[12].isspace()"
   ]
  },
  {
   "cell_type": "code",
   "execution_count": 101,
   "id": "fc4914b1",
   "metadata": {
    "collapsed": true
   },
   "outputs": [
    {
     "data": {
      "text/plain": [
       "'      Gudlavalleru Engineering Clg      '"
      ]
     },
     "execution_count": 101,
     "metadata": {},
     "output_type": "execute_result"
    }
   ],
   "source": [
    "clg.center(40)"
   ]
  },
  {
   "cell_type": "code",
   "execution_count": 102,
   "id": "c09a3869",
   "metadata": {
    "collapsed": true
   },
   "outputs": [
    {
     "data": {
      "text/plain": [
       "'00Gudlavalleru Engineering Clg'"
      ]
     },
     "execution_count": 102,
     "metadata": {},
     "output_type": "execute_result"
    }
   ],
   "source": [
    "clg.zfill(30)"
   ]
  },
  {
   "cell_type": "code",
   "execution_count": 103,
   "id": "7c471f96",
   "metadata": {
    "collapsed": true
   },
   "outputs": [
    {
     "data": {
      "text/plain": [
       "False"
      ]
     },
     "execution_count": 103,
     "metadata": {},
     "output_type": "execute_result"
    }
   ],
   "source": [
    "clg.islower()"
   ]
  },
  {
   "cell_type": "code",
   "execution_count": 104,
   "id": "120ff939",
   "metadata": {
    "collapsed": true
   },
   "outputs": [
    {
     "data": {
      "text/plain": [
       "True"
      ]
     },
     "execution_count": 104,
     "metadata": {},
     "output_type": "execute_result"
    }
   ],
   "source": [
    "\"varma\".islower()"
   ]
  },
  {
   "cell_type": "code",
   "execution_count": 106,
   "id": "9da40f0b",
   "metadata": {
    "collapsed": true
   },
   "outputs": [
    {
     "data": {
      "text/plain": [
       "True"
      ]
     },
     "execution_count": 106,
     "metadata": {},
     "output_type": "execute_result"
    }
   ],
   "source": [
    "clg[0].isupper()"
   ]
  },
  {
   "cell_type": "code",
   "execution_count": 107,
   "id": "59f4f518",
   "metadata": {
    "collapsed": true
   },
   "outputs": [
    {
     "data": {
      "text/plain": [
       "'gudlavalleru engineering clg'"
      ]
     },
     "execution_count": 107,
     "metadata": {},
     "output_type": "execute_result"
    }
   ],
   "source": [
    "clg.lower()"
   ]
  },
  {
   "cell_type": "code",
   "execution_count": 108,
   "id": "0071e835",
   "metadata": {
    "collapsed": true
   },
   "outputs": [
    {
     "data": {
      "text/plain": [
       "'GUDLAVALLERU ENGINEERING CLG'"
      ]
     },
     "execution_count": 108,
     "metadata": {},
     "output_type": "execute_result"
    }
   ],
   "source": [
    "clg.upper()"
   ]
  },
  {
   "cell_type": "code",
   "execution_count": 109,
   "id": "e5f6c9f5",
   "metadata": {},
   "outputs": [
    {
     "data": {
      "text/plain": [
       "'Gudlavalleru Engineering Clg'"
      ]
     },
     "execution_count": 109,
     "metadata": {},
     "output_type": "execute_result"
    }
   ],
   "source": [
    "clg"
   ]
  },
  {
   "cell_type": "code",
   "execution_count": 110,
   "id": "7802ed74",
   "metadata": {
    "collapsed": true
   },
   "outputs": [
    {
     "data": {
      "text/plain": [
       "'I Am Student'"
      ]
     },
     "execution_count": 110,
     "metadata": {},
     "output_type": "execute_result"
    }
   ],
   "source": [
    "\"i am student\".title()"
   ]
  },
  {
   "cell_type": "code",
   "execution_count": 111,
   "id": "227560ea",
   "metadata": {
    "collapsed": true
   },
   "outputs": [
    {
     "data": {
      "text/plain": [
       "'I am student'"
      ]
     },
     "execution_count": 111,
     "metadata": {},
     "output_type": "execute_result"
    }
   ],
   "source": [
    "\"i am student\".capitalize()"
   ]
  },
  {
   "cell_type": "code",
   "execution_count": null,
   "id": "fb29342f",
   "metadata": {},
   "outputs": [],
   "source": [
    "clg.swapcase()"
   ]
  },
  {
   "cell_type": "code",
   "execution_count": null,
   "id": "de064249",
   "metadata": {},
   "outputs": [],
   "source": [
    "clg.index('u')"
   ]
  },
  {
   "cell_type": "code",
   "execution_count": 115,
   "id": "8cd0a763",
   "metadata": {
    "scrolled": true
   },
   "outputs": [
    {
     "data": {
      "text/plain": [
       "['I', 'am', 'student', 'of', 'GEC']"
      ]
     },
     "execution_count": 115,
     "metadata": {},
     "output_type": "execute_result"
    }
   ],
   "source": [
    "\"I am student of GEC\".split()"
   ]
  },
  {
   "cell_type": "code",
   "execution_count": 118,
   "id": "ea84bad5",
   "metadata": {
    "collapsed": true
   },
   "outputs": [
    {
     "name": "stdout",
     "output_type": "stream",
     "text": [
      "word      \n",
      "word\n"
     ]
    },
    {
     "data": {
      "text/plain": [
       "'      word'"
      ]
     },
     "execution_count": 118,
     "metadata": {},
     "output_type": "execute_result"
    }
   ],
   "source": [
    "new=\"      word      \"\n",
    "print(new.lstrip())\n",
    "print(new.strip())\n",
    "new.rstrip()"
   ]
  },
  {
   "cell_type": "code",
   "execution_count": null,
   "id": "dc56ad37",
   "metadata": {},
   "outputs": [],
   "source": [
    "name=input('your name:')\n",
    "#raviteja\n",
    "#ouput=*avitej*\n",
    "n=len(name)\n",
    "for i in range(n):\n",
    "    if i==0 or i==n-1:\n",
    "        print('*',end=\"\")\n",
    "    else:\n",
    "        print(name[i],end='')"
   ]
  },
  {
   "cell_type": "code",
   "execution_count": null,
   "id": "13cdb2e0",
   "metadata": {},
   "outputs": [],
   "source": []
  }
 ],
 "metadata": {
  "kernelspec": {
   "display_name": "Python 3 (ipykernel)",
   "language": "python",
   "name": "python3"
  },
  "language_info": {
   "codemirror_mode": {
    "name": "ipython",
    "version": 3
   },
   "file_extension": ".py",
   "mimetype": "text/x-python",
   "name": "python",
   "nbconvert_exporter": "python",
   "pygments_lexer": "ipython3",
   "version": "3.9.7"
  }
 },
 "nbformat": 4,
 "nbformat_minor": 5
}
