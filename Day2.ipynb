{
 "cells": [
  {
   "cell_type": "markdown",
   "id": "4aa0e036",
   "metadata": {},
   "source": [
    "# Variable\n",
    "\n",
    "    -> Which is used to store the data\n",
    "    -> It does not starts with digits \n",
    "    -> It does not starts with special symbols \n",
    "       except (_(underscore))\n",
    "    -> We didn't use keywords as variable_names\n",
    "    -> we didn't use spaces in the middle of\n",
    "         variable names,instead of that we can use\n",
    "            (_(underscor))"
   ]
  },
  {
   "cell_type": "code",
   "execution_count": 2,
   "id": "d6c5b8c9",
   "metadata": {
    "collapsed": true
   },
   "outputs": [
    {
     "data": {
      "text/plain": [
       "78"
      ]
     },
     "execution_count": 2,
     "metadata": {},
     "output_type": "execute_result"
    }
   ],
   "source": [
    "a6 = 78\n",
    "a6"
   ]
  },
  {
   "cell_type": "code",
   "execution_count": 4,
   "id": "8e690c86",
   "metadata": {},
   "outputs": [
    {
     "data": {
      "text/plain": [
       "89"
      ]
     },
     "execution_count": 4,
     "metadata": {},
     "output_type": "execute_result"
    }
   ],
   "source": [
    "_j = 89\n",
    "_j"
   ]
  },
  {
   "cell_type": "code",
   "execution_count": 5,
   "id": "2248ba42",
   "metadata": {},
   "outputs": [
    {
     "ename": "SyntaxError",
     "evalue": "cannot assign to True (Temp/ipykernel_1432/3161791261.py, line 1)",
     "output_type": "error",
     "traceback": [
      "\u001b[1;36m  File \u001b[1;32m\"C:\\Users\\MPMC\\AppData\\Local\\Temp/ipykernel_1432/3161791261.py\"\u001b[1;36m, line \u001b[1;32m1\u001b[0m\n\u001b[1;33m    True=67\u001b[0m\n\u001b[1;37m    ^\u001b[0m\n\u001b[1;31mSyntaxError\u001b[0m\u001b[1;31m:\u001b[0m cannot assign to True\n"
     ]
    }
   ],
   "source": [
    "True=67\n",
    "True"
   ]
  },
  {
   "cell_type": "code",
   "execution_count": 7,
   "id": "a634ec79",
   "metadata": {
    "collapsed": true
   },
   "outputs": [
    {
     "data": {
      "text/plain": [
       "75"
      ]
     },
     "execution_count": 7,
     "metadata": {},
     "output_type": "execute_result"
    }
   ],
   "source": [
    "first_name=75\n",
    "first_name"
   ]
  },
  {
   "cell_type": "code",
   "execution_count": 8,
   "id": "9bd21eb2",
   "metadata": {
    "collapsed": true
   },
   "outputs": [
    {
     "data": {
      "text/plain": [
       "45"
      ]
     },
     "execution_count": 8,
     "metadata": {},
     "output_type": "execute_result"
    }
   ],
   "source": [
    "# Single variable assignment\n",
    "a = 45\n",
    "a"
   ]
  },
  {
   "cell_type": "code",
   "execution_count": 9,
   "id": "747c3ea9",
   "metadata": {},
   "outputs": [
    {
     "name": "stdout",
     "output_type": "stream",
     "text": [
      "1 2 3\n"
     ]
    }
   ],
   "source": [
    "# Multivariable assignment\n",
    "a1,a2,a3=1,2,3\n",
    "print(a1,a2,a3)"
   ]
  },
  {
   "cell_type": "code",
   "execution_count": 11,
   "id": "4e4100ad",
   "metadata": {
    "collapsed": true
   },
   "outputs": [
    {
     "name": "stdout",
     "output_type": "stream",
     "text": [
      "45 45 45 45\n"
     ]
    }
   ],
   "source": [
    "a=b=c=d=45\n",
    "print(a,b,c,d)"
   ]
  },
  {
   "cell_type": "code",
   "execution_count": 22,
   "id": "32948ecf",
   "metadata": {
    "collapsed": true
   },
   "outputs": [
    {
     "name": "stdout",
     "output_type": "stream",
     "text": [
      "45\n",
      "22\n",
      "56\n",
      "45 22 56\n",
      "s1\n"
     ]
    }
   ],
   "source": [
    "s1,s2,s3=45,22,56\n",
    "print(s1)\n",
    "print(s2)\n",
    "print(s3)\n",
    "print(s1,s2,s3)"
   ]
  },
  {
   "cell_type": "code",
   "execution_count": null,
   "id": "c23924ee",
   "metadata": {},
   "outputs": [],
   "source": [
    "# Datatypes\n",
    "- int\n",
    "- float\n",
    "- str\n",
    "- bool"
   ]
  },
  {
   "cell_type": "code",
   "execution_count": 26,
   "id": "572ae02a",
   "metadata": {},
   "outputs": [
    {
     "name": "stdout",
     "output_type": "stream",
     "text": [
      "<class 'int'> 7\n"
     ]
    }
   ],
   "source": [
    "d = 7\n",
    "print(type(d),d)"
   ]
  },
  {
   "cell_type": "code",
   "execution_count": 27,
   "id": "bce1b859",
   "metadata": {},
   "outputs": [
    {
     "name": "stdout",
     "output_type": "stream",
     "text": [
      "<class 'float'> 7.4\n"
     ]
    }
   ],
   "source": [
    "d1 = 7.4\n",
    "print(type(d1),d1)"
   ]
  },
  {
   "cell_type": "code",
   "execution_count": 28,
   "id": "7415bc61",
   "metadata": {},
   "outputs": [
    {
     "name": "stdout",
     "output_type": "stream",
     "text": [
      "<class 'str'> python\n"
     ]
    }
   ],
   "source": [
    "s = \"python\"\n",
    "print(type(s),s)"
   ]
  },
  {
   "cell_type": "code",
   "execution_count": 30,
   "id": "de5e914e",
   "metadata": {
    "collapsed": true
   },
   "outputs": [
    {
     "name": "stdout",
     "output_type": "stream",
     "text": [
      "Enter any value:56\n",
      "56\n"
     ]
    }
   ],
   "source": [
    "#### Dynamic input reading\n",
    "#### integer value\n",
    "n = int(input('Enter any value:'))\n",
    "print(n)"
   ]
  },
  {
   "cell_type": "code",
   "execution_count": 31,
   "id": "d921109c",
   "metadata": {
    "collapsed": true
   },
   "outputs": [
    {
     "name": "stdout",
     "output_type": "stream",
     "text": [
      "5.9\n"
     ]
    },
    {
     "data": {
      "text/plain": [
       "5.9"
      ]
     },
     "execution_count": 31,
     "metadata": {},
     "output_type": "execute_result"
    }
   ],
   "source": [
    "n1 = float(input())\n",
    "n1"
   ]
  },
  {
   "cell_type": "code",
   "execution_count": 32,
   "id": "50592793",
   "metadata": {
    "collapsed": true
   },
   "outputs": [
    {
     "name": "stdout",
     "output_type": "stream",
     "text": [
      "python@47856**#%^#\n"
     ]
    },
    {
     "data": {
      "text/plain": [
       "'python@47856**#%^#'"
      ]
     },
     "execution_count": 32,
     "metadata": {},
     "output_type": "execute_result"
    }
   ],
   "source": [
    "# string\n",
    "s = input()\n",
    "s"
   ]
  },
  {
   "cell_type": "code",
   "execution_count": 33,
   "id": "aa2dca5c",
   "metadata": {
    "collapsed": true
   },
   "outputs": [
    {
     "name": "stdout",
     "output_type": "stream",
     "text": [
      "welcome^%@$^454\n"
     ]
    },
    {
     "data": {
      "text/plain": [
       "'welcome^%@$^454'"
      ]
     },
     "execution_count": 33,
     "metadata": {},
     "output_type": "execute_result"
    }
   ],
   "source": [
    "s1 = str(input())\n",
    "s1"
   ]
  },
  {
   "cell_type": "code",
   "execution_count": null,
   "id": "ac9b9dcb",
   "metadata": {},
   "outputs": [],
   "source": [
    "# Type Conversions\n",
    "\n",
    "int- int(variable_name)\n",
    "float - float(variable_name)\n",
    "str-- str(variable_name)"
   ]
  },
  {
   "cell_type": "code",
   "execution_count": 34,
   "id": "b85fd2f1",
   "metadata": {
    "collapsed": true
   },
   "outputs": [
    {
     "name": "stdout",
     "output_type": "stream",
     "text": [
      "<class 'int'>\n",
      "5.0 <class 'float'>\n"
     ]
    }
   ],
   "source": [
    "# int to float\n",
    "g = 5\n",
    "print(type(g))\n",
    "g1 = float(g)\n",
    "print(g1,type(g1))"
   ]
  },
  {
   "cell_type": "code",
   "execution_count": 35,
   "id": "7873fdfb",
   "metadata": {
    "collapsed": true
   },
   "outputs": [
    {
     "name": "stdout",
     "output_type": "stream",
     "text": [
      "5.7 <class 'float'>\n",
      "5 <class 'int'>\n"
     ]
    }
   ],
   "source": [
    "# float to integer\n",
    "f = 5.7\n",
    "print(f,type(f))\n",
    "f1 = int(f)\n",
    "print(f1,type(f1))"
   ]
  },
  {
   "cell_type": "code",
   "execution_count": 39,
   "id": "fd87764c",
   "metadata": {
    "collapsed": true
   },
   "outputs": [
    {
     "name": "stdout",
     "output_type": "stream",
     "text": [
      "90 <class 'int'>\n",
      "90 <class 'str'>\n"
     ]
    }
   ],
   "source": [
    "# integer to string\n",
    "g2 = 90\n",
    "print(g2,type(g2))\n",
    "h = str(g2)\n",
    "print(h,type(h))"
   ]
  },
  {
   "cell_type": "markdown",
   "id": "80bcbcd0",
   "metadata": {},
   "source": [
    "# Operators\n",
    "\n",
    "     1.Arithmetic :\n",
    "         +,-,/,*,%,//(floor),power(**)\n",
    "    2.Assignment:-\n",
    "          =,+=,-=,*=,.......\n",
    "    3.Comparision/Relational:-\n",
    "        ==,!=,<,>,<=,>=\n",
    "    4.Logical:---  and,or,not\n",
    "    5.Bitwise:---  &,|,^(xor)\n",
    "    6.Membership:---   in,not in\n",
    "    7.Identity:---  is,is not\n",
    "    8.boolean operators :- \n",
    "        True,False,None\n",
    "    9.Operators used in print() :-\n",
    "         sep,end\n",
    "    "
   ]
  },
  {
   "cell_type": "code",
   "execution_count": null,
   "id": "1ab166a7",
   "metadata": {},
   "outputs": [],
   "source": [
    "# Arithmetic :\n",
    "     -> These operators are used to perform\n",
    "         mathematical operations"
   ]
  },
  {
   "cell_type": "code",
   "execution_count": 40,
   "id": "85ff6e7c",
   "metadata": {},
   "outputs": [
    {
     "name": "stdout",
     "output_type": "stream",
     "text": [
      "7 -1 12 0.75\n"
     ]
    }
   ],
   "source": [
    "a,b,= 3,4\n",
    "print(a+b,a-b,a*b,a/b)"
   ]
  },
  {
   "cell_type": "code",
   "execution_count": 43,
   "id": "1378b256",
   "metadata": {
    "collapsed": true
   },
   "outputs": [
    {
     "name": "stdout",
     "output_type": "stream",
     "text": [
      "3\n",
      "0\n",
      "9\n"
     ]
    }
   ],
   "source": [
    "print(a%b)\n",
    "print(a//b)\n",
    "print(a**2)"
   ]
  },
  {
   "cell_type": "code",
   "execution_count": null,
   "id": "329e0dcf",
   "metadata": {},
   "outputs": [],
   "source": [
    "# 2.Assignment:-   =,+=,-=,*=,.......\n",
    "    -> These operators are used to\n",
    "        assign the values to variables"
   ]
  },
  {
   "cell_type": "code",
   "execution_count": 44,
   "id": "659c607a",
   "metadata": {
    "collapsed": true
   },
   "outputs": [
    {
     "name": "stdout",
     "output_type": "stream",
     "text": [
      "50\n"
     ]
    }
   ],
   "source": [
    "s = 45\n",
    "s += 5  # s=s+5=45+5=50\n",
    "print(s)"
   ]
  },
  {
   "cell_type": "code",
   "execution_count": 47,
   "id": "063f837c",
   "metadata": {
    "collapsed": true
   },
   "outputs": [
    {
     "name": "stdout",
     "output_type": "stream",
     "text": [
      "2\n",
      "4\n"
     ]
    }
   ],
   "source": [
    "b = 6\n",
    "b -= 4\n",
    "print(b)\n",
    "c = b*2\n",
    "print(c)"
   ]
  },
  {
   "cell_type": "code",
   "execution_count": null,
   "id": "754bbd35",
   "metadata": {},
   "outputs": [],
   "source": [
    "# Comparision\n",
    "  --> These operators are used to compare\n",
    "      the values"
   ]
  },
  {
   "cell_type": "code",
   "execution_count": 51,
   "id": "ddd6d29f",
   "metadata": {
    "collapsed": true
   },
   "outputs": [
    {
     "name": "stdout",
     "output_type": "stream",
     "text": [
      "False True\n",
      "False True\n",
      "False True\n"
     ]
    }
   ],
   "source": [
    "c,d=8,4\n",
    "print(c==d,c!=d)\n",
    "print(c<d,c>d)\n",
    "print(c<=d,c>=d)"
   ]
  },
  {
   "cell_type": "markdown",
   "id": "9d7870d5",
   "metadata": {},
   "source": [
    "##### Logical operators\n",
    "- and,or,not"
   ]
  },
  {
   "cell_type": "code",
   "execution_count": 1,
   "id": "9ada0595",
   "metadata": {},
   "outputs": [],
   "source": [
    "#identity operators\n",
    "#is,is not"
   ]
  },
  {
   "cell_type": "code",
   "execution_count": 11,
   "id": "caafc7f5",
   "metadata": {},
   "outputs": [
    {
     "name": "stdout",
     "output_type": "stream",
     "text": [
      "10 15\n"
     ]
    }
   ],
   "source": [
    "x,y=10,15\n",
    "print(x,y)"
   ]
  },
  {
   "cell_type": "code",
   "execution_count": 3,
   "id": "f1a5b406",
   "metadata": {
    "collapsed": true
   },
   "outputs": [
    {
     "data": {
      "text/plain": [
       "False"
      ]
     },
     "execution_count": 3,
     "metadata": {},
     "output_type": "execute_result"
    }
   ],
   "source": [
    "x is y"
   ]
  },
  {
   "cell_type": "code",
   "execution_count": 4,
   "id": "eba6c0e3",
   "metadata": {
    "collapsed": true
   },
   "outputs": [
    {
     "data": {
      "text/plain": [
       "True"
      ]
     },
     "execution_count": 4,
     "metadata": {},
     "output_type": "execute_result"
    }
   ],
   "source": [
    "x is not y"
   ]
  },
  {
   "cell_type": "code",
   "execution_count": 5,
   "id": "2a33af8c",
   "metadata": {},
   "outputs": [],
   "source": [
    "x=y #"
   ]
  },
  {
   "cell_type": "code",
   "execution_count": 6,
   "id": "1ada9c51",
   "metadata": {
    "collapsed": true
   },
   "outputs": [
    {
     "data": {
      "text/plain": [
       "True"
      ]
     },
     "execution_count": 6,
     "metadata": {},
     "output_type": "execute_result"
    }
   ],
   "source": [
    "x is y"
   ]
  },
  {
   "cell_type": "code",
   "execution_count": 14,
   "id": "f944f50a",
   "metadata": {
    "collapsed": true
   },
   "outputs": [
    {
     "name": "stdout",
     "output_type": "stream",
     "text": [
      "326124137680\n",
      "326124137680\n"
     ]
    }
   ],
   "source": [
    "first=second=30\n",
    "print(id(first))\n",
    "print(id(second))"
   ]
  },
  {
   "cell_type": "code",
   "execution_count": 12,
   "id": "4da95164",
   "metadata": {
    "collapsed": true
   },
   "outputs": [
    {
     "data": {
      "text/plain": [
       "326124137040"
      ]
     },
     "execution_count": 12,
     "metadata": {},
     "output_type": "execute_result"
    }
   ],
   "source": [
    "id(x)"
   ]
  },
  {
   "cell_type": "code",
   "execution_count": 13,
   "id": "147664cf",
   "metadata": {
    "collapsed": true
   },
   "outputs": [
    {
     "data": {
      "text/plain": [
       "326124137200"
      ]
     },
     "execution_count": 13,
     "metadata": {},
     "output_type": "execute_result"
    }
   ],
   "source": [
    "id(y)"
   ]
  },
  {
   "cell_type": "code",
   "execution_count": 15,
   "id": "369fca5c",
   "metadata": {
    "collapsed": true
   },
   "outputs": [
    {
     "data": {
      "text/plain": [
       "False"
      ]
     },
     "execution_count": 15,
     "metadata": {},
     "output_type": "execute_result"
    }
   ],
   "source": [
    "x is y and first is second #F and T-->F"
   ]
  },
  {
   "cell_type": "code",
   "execution_count": 16,
   "id": "717518f2",
   "metadata": {
    "collapsed": true
   },
   "outputs": [
    {
     "data": {
      "text/plain": [
       "True"
      ]
     },
     "execution_count": 16,
     "metadata": {},
     "output_type": "execute_result"
    }
   ],
   "source": [
    "x is y or first is second #F and T-->T"
   ]
  },
  {
   "cell_type": "code",
   "execution_count": 20,
   "id": "4ae6af4a",
   "metadata": {
    "collapsed": true
   },
   "outputs": [
    {
     "name": "stdout",
     "output_type": "stream",
     "text": [
      "first=12\n",
      "second=10\n",
      "8\n",
      "15\n"
     ]
    }
   ],
   "source": [
    "f=int(input(\"first=\"))\n",
    "s=int(input(\"second=\"))\n",
    "print(f&s)\n",
    "print(f|y)"
   ]
  },
  {
   "cell_type": "code",
   "execution_count": 21,
   "id": "e4479401",
   "metadata": {
    "collapsed": true
   },
   "outputs": [
    {
     "data": {
      "text/plain": [
       "'0b1100'"
      ]
     },
     "execution_count": 21,
     "metadata": {},
     "output_type": "execute_result"
    }
   ],
   "source": [
    "bin(12)"
   ]
  },
  {
   "cell_type": "code",
   "execution_count": 22,
   "id": "2d7a7aa7",
   "metadata": {
    "collapsed": true
   },
   "outputs": [
    {
     "data": {
      "text/plain": [
       "'0b1010'"
      ]
     },
     "execution_count": 22,
     "metadata": {},
     "output_type": "execute_result"
    }
   ],
   "source": [
    "bin(10)"
   ]
  },
  {
   "cell_type": "code",
   "execution_count": 23,
   "id": "8ccf41a9",
   "metadata": {
    "collapsed": true
   },
   "outputs": [
    {
     "data": {
      "text/plain": [
       "8"
      ]
     },
     "execution_count": 23,
     "metadata": {},
     "output_type": "execute_result"
    }
   ],
   "source": [
    "12&10"
   ]
  },
  {
   "cell_type": "code",
   "execution_count": 24,
   "id": "f1590acc",
   "metadata": {
    "collapsed": true
   },
   "outputs": [
    {
     "data": {
      "text/plain": [
       "14"
      ]
     },
     "execution_count": 24,
     "metadata": {},
     "output_type": "execute_result"
    }
   ],
   "source": [
    "12|10"
   ]
  },
  {
   "cell_type": "code",
   "execution_count": 25,
   "id": "309a8ef2",
   "metadata": {
    "collapsed": true
   },
   "outputs": [
    {
     "data": {
      "text/plain": [
       "6"
      ]
     },
     "execution_count": 25,
     "metadata": {},
     "output_type": "execute_result"
    }
   ],
   "source": [
    "12^10"
   ]
  },
  {
   "cell_type": "code",
   "execution_count": 26,
   "id": "6033ab31",
   "metadata": {
    "collapsed": true
   },
   "outputs": [
    {
     "data": {
      "text/plain": [
       "24"
      ]
     },
     "execution_count": 26,
     "metadata": {},
     "output_type": "execute_result"
    }
   ],
   "source": [
    "#perform bitwise operations on 25 and 30\n",
    "m=25\n",
    "n=30\n",
    "m&n"
   ]
  },
  {
   "cell_type": "code",
   "execution_count": 27,
   "id": "aedd0fe7",
   "metadata": {
    "collapsed": true
   },
   "outputs": [
    {
     "data": {
      "text/plain": [
       "31"
      ]
     },
     "execution_count": 27,
     "metadata": {},
     "output_type": "execute_result"
    }
   ],
   "source": [
    "m|n"
   ]
  },
  {
   "cell_type": "code",
   "execution_count": 28,
   "id": "7f5dcb11",
   "metadata": {
    "collapsed": true
   },
   "outputs": [
    {
     "data": {
      "text/plain": [
       "7"
      ]
     },
     "execution_count": 28,
     "metadata": {},
     "output_type": "execute_result"
    }
   ],
   "source": [
    "m^n"
   ]
  },
  {
   "cell_type": "markdown",
   "id": "5a5f1bc6",
   "metadata": {},
   "source": [
    "#### membership\n",
    "- in,not in"
   ]
  },
  {
   "cell_type": "code",
   "execution_count": 29,
   "id": "5d461d5c",
   "metadata": {
    "collapsed": true
   },
   "outputs": [
    {
     "data": {
      "text/plain": [
       "True"
      ]
     },
     "execution_count": 29,
     "metadata": {},
     "output_type": "execute_result"
    }
   ],
   "source": [
    "'r' in 'varma'"
   ]
  },
  {
   "cell_type": "code",
   "execution_count": 30,
   "id": "e5d84a6d",
   "metadata": {
    "collapsed": true
   },
   "outputs": [
    {
     "data": {
      "text/plain": [
       "False"
      ]
     },
     "execution_count": 30,
     "metadata": {},
     "output_type": "execute_result"
    }
   ],
   "source": [
    "\"e\" not in 'gudlavalleru'"
   ]
  },
  {
   "cell_type": "code",
   "execution_count": 35,
   "id": "8d7bad00",
   "metadata": {
    "collapsed": true
   },
   "outputs": [
    {
     "name": "stdout",
     "output_type": "stream",
     "text": [
      "12 10 10 12\n"
     ]
    }
   ],
   "source": [
    "#sep,end\n",
    "print(f,s,10,12)"
   ]
  },
  {
   "cell_type": "code",
   "execution_count": 36,
   "id": "dba170a1",
   "metadata": {
    "collapsed": true
   },
   "outputs": [
    {
     "name": "stdout",
     "output_type": "stream",
     "text": [
      "12,10,10,12\n"
     ]
    }
   ],
   "source": [
    "#sep,end\n",
    "print(f,s,10,12,sep=',')"
   ]
  },
  {
   "cell_type": "code",
   "execution_count": 37,
   "id": "50b90ceb",
   "metadata": {
    "collapsed": true
   },
   "outputs": [
    {
     "name": "stdout",
     "output_type": "stream",
     "text": [
      "12 10 10 12."
     ]
    }
   ],
   "source": [
    "#sep,end\n",
    "print(f,s,10,12,end='.')"
   ]
  },
  {
   "cell_type": "code",
   "execution_count": 38,
   "id": "7eab1ff0",
   "metadata": {
    "collapsed": true
   },
   "outputs": [
    {
     "name": "stdout",
     "output_type": "stream",
     "text": [
      "12,10,10,12@"
     ]
    }
   ],
   "source": [
    "#sep,end\n",
    "print(f,s,10,12,sep=',',end=\"@\")"
   ]
  },
  {
   "cell_type": "code",
   "execution_count": 39,
   "id": "e110c571",
   "metadata": {
    "collapsed": true
   },
   "outputs": [
    {
     "name": "stdout",
     "output_type": "stream",
     "text": [
      "v,a,r,m,a\n"
     ]
    }
   ],
   "source": [
    "print(*'varma',sep=',')"
   ]
  },
  {
   "cell_type": "code",
   "execution_count": 40,
   "id": "b7b41b0e",
   "metadata": {
    "collapsed": true
   },
   "outputs": [
    {
     "name": "stdout",
     "output_type": "stream",
     "text": [
      "s,t,u,d,e,n,t\n"
     ]
    }
   ],
   "source": [
    "name='student'\n",
    "print(*name,sep=\",\")"
   ]
  },
  {
   "cell_type": "code",
   "execution_count": 41,
   "id": "d8d49520",
   "metadata": {
    "collapsed": true
   },
   "outputs": [
    {
     "data": {
      "text/plain": [
       "20"
      ]
     },
     "execution_count": 41,
     "metadata": {},
     "output_type": "execute_result"
    }
   ],
   "source": [
    "4*5"
   ]
  },
  {
   "cell_type": "code",
   "execution_count": 43,
   "id": "c41d8c38",
   "metadata": {
    "collapsed": true
   },
   "outputs": [
    {
     "data": {
      "text/plain": [
       "'vvvvv'"
      ]
     },
     "execution_count": 43,
     "metadata": {},
     "output_type": "execute_result"
    }
   ],
   "source": [
    "5*'v'"
   ]
  },
  {
   "cell_type": "code",
   "execution_count": 44,
   "id": "7b667ad1",
   "metadata": {
    "collapsed": true
   },
   "outputs": [
    {
     "data": {
      "text/plain": [
       "11"
      ]
     },
     "execution_count": 44,
     "metadata": {},
     "output_type": "execute_result"
    }
   ],
   "source": [
    "5+6#addition"
   ]
  },
  {
   "cell_type": "code",
   "execution_count": 46,
   "id": "eb93c56f",
   "metadata": {
    "collapsed": true
   },
   "outputs": [
    {
     "data": {
      "text/plain": [
       "'hihello'"
      ]
     },
     "execution_count": 46,
     "metadata": {},
     "output_type": "execute_result"
    }
   ],
   "source": [
    "'hi'+'hello' #concatenation"
   ]
  },
  {
   "cell_type": "markdown",
   "id": "82c9c763",
   "metadata": {},
   "source": [
    "#### Conditional Statements"
   ]
  },
  {
   "cell_type": "code",
   "execution_count": 47,
   "id": "0e5206ed",
   "metadata": {},
   "outputs": [],
   "source": [
    "#take two integer values from user and\n",
    "#perform all the operators\n",
    "#arithmetic,logical,identity,relational\n",
    "#assignment"
   ]
  },
  {
   "cell_type": "code",
   "execution_count": 54,
   "id": "29a620fb",
   "metadata": {
    "collapsed": true
   },
   "outputs": [
    {
     "name": "stdout",
     "output_type": "stream",
     "text": [
      "9\n",
      "6\n",
      "performing arithmetic operations\n",
      "\n",
      "sum= 15\n",
      "difference= 3\n",
      "product= 54\n",
      "coefficient= 1.5\n",
      "int division= 1\n",
      "remainder= 3\n",
      "exponential= 531441\n",
      "\n",
      "assignment operations\n",
      "\n",
      "increment with + 15\n",
      "increment with * 10\n",
      "decrement with - 36\n",
      "decrement with / 3\n",
      "performing bitwise operations\n",
      "\n",
      "bitwise and= 2\n",
      "bitwise or= 11\n",
      "xor= 9\n",
      "working with identity op'rs\n",
      "\n",
      "id(val)= 326124137040\n",
      "id(val2)= 326124136816\n"
     ]
    }
   ],
   "source": [
    "val,val2=int(input()),int(input())\n",
    "print(\"performing arithmetic operations\\n\")\n",
    "print('sum=',val+val2)\n",
    "print('difference=',val-val2)\n",
    "print('product=',val*val2)\n",
    "print('coefficient=',val/val2)\n",
    "print('int division=',val//val2)\n",
    "print('remainder=',val%val2)\n",
    "print('exponential=',val**val2)\n",
    "print(\"\\nassignment operations\\n\")\n",
    "val+=val2\n",
    "print('increment with +',val)\n",
    "val-=5\n",
    "print('increment with *',val)\n",
    "val2*=6\n",
    "print('decrement with -',val2)\n",
    "val2//=10\n",
    "print('decrement with /',val2)\n",
    "print(\"performing bitwise operations\\n\")\n",
    "print(\"bitwise and=\",val&val2)\n",
    "print(\"bitwise or=\",val|val2)\n",
    "print('xor=',val^val2)\n",
    "print(\"working with identity op'rs\\n\")\n",
    "print(\"id(val)=\",id(val))\n",
    "print(\"id(val2)=\",id(val2))"
   ]
  },
  {
   "cell_type": "markdown",
   "id": "b1561720",
   "metadata": {},
   "source": [
    "#### Documentation\n"
   ]
  },
  {
   "cell_type": "code",
   "execution_count": 55,
   "id": "6f415088",
   "metadata": {
    "scrolled": false
   },
   "outputs": [
    {
     "data": {
      "text/plain": [
       "0"
      ]
     },
     "execution_count": 55,
     "metadata": {},
     "output_type": "execute_result"
    }
   ],
   "source": [
    "10&20"
   ]
  },
  {
   "cell_type": "code",
   "execution_count": 56,
   "id": "7b71ae28",
   "metadata": {
    "collapsed": true
   },
   "outputs": [
    {
     "data": {
      "text/plain": [
       "30"
      ]
     },
     "execution_count": 56,
     "metadata": {},
     "output_type": "execute_result"
    }
   ],
   "source": [
    "10^20"
   ]
  },
  {
   "cell_type": "code",
   "execution_count": 57,
   "id": "216fccdc",
   "metadata": {
    "collapsed": true
   },
   "outputs": [
    {
     "data": {
      "text/plain": [
       "30"
      ]
     },
     "execution_count": 57,
     "metadata": {},
     "output_type": "execute_result"
    }
   ],
   "source": [
    "# xor\n",
    "10^20"
   ]
  },
  {
   "cell_type": "code",
   "execution_count": null,
   "id": "1a13cf3a",
   "metadata": {},
   "outputs": [],
   "source": []
  }
 ],
 "metadata": {
  "kernelspec": {
   "display_name": "Python 3 (ipykernel)",
   "language": "python",
   "name": "python3"
  },
  "language_info": {
   "codemirror_mode": {
    "name": "ipython",
    "version": 3
   },
   "file_extension": ".py",
   "mimetype": "text/x-python",
   "name": "python",
   "nbconvert_exporter": "python",
   "pygments_lexer": "ipython3",
   "version": "3.9.7"
  }
 },
 "nbformat": 4,
 "nbformat_minor": 5
}
