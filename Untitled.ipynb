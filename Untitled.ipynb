{
 "cells": [
  {
   "cell_type": "markdown",
   "id": "dc79e266",
   "metadata": {},
   "source": [
    "### Conditional Statements\n",
    "    - if\n",
    "    - if else\n",
    "    - elif\n",
    "    - nested if"
   ]
  },
  {
   "cell_type": "code",
   "execution_count": 1,
   "id": "4e3efedf",
   "metadata": {},
   "outputs": [
    {
     "ename": "SyntaxError",
     "evalue": "invalid syntax (Temp/ipykernel_43052/2052760732.py, line 1)",
     "output_type": "error",
     "traceback": [
      "\u001b[1;36m  File \u001b[1;32m\"C:\\Users\\MPMC\\AppData\\Local\\Temp/ipykernel_43052/2052760732.py\"\u001b[1;36m, line \u001b[1;32m1\u001b[0m\n\u001b[1;33m    Syntax for if statement\u001b[0m\n\u001b[1;37m           ^\u001b[0m\n\u001b[1;31mSyntaxError\u001b[0m\u001b[1;31m:\u001b[0m invalid syntax\n"
     ]
    }
   ],
   "source": [
    "Syntax for if statement\n",
    "-------------------------\n",
    "if(condition):\n",
    "    statements"
   ]
  },
  {
   "cell_type": "code",
   "execution_count": null,
   "id": "736bc962",
   "metadata": {},
   "outputs": [],
   "source": [
    "# i/p: 5\n",
    "# o/p: postive\n",
    "\n",
    "# i/p: -6\n",
    "# o/p: "
   ]
  },
  {
   "cell_type": "code",
   "execution_count": null,
   "id": "fbf39255",
   "metadata": {},
   "outputs": [],
   "source": [
    "n = int(input('Enter any number: '))\n",
    "if(n%2!=0):\n",
    "    print(\"ODD\")"
   ]
  },
  {
   "cell_type": "code",
   "execution_count": null,
   "id": "7ea3f7f6",
   "metadata": {},
   "outputs": [],
   "source": [
    "n1 = int(input())\n",
    "if(n1>0):\n",
    "    print(\"Positive\")"
   ]
  },
  {
   "cell_type": "code",
   "execution_count": null,
   "id": "8eca76f4",
   "metadata": {},
   "outputs": [],
   "source": [
    "Syntax for if else statement\n",
    "-------------------------------\n",
    "if(condition):\n",
    "    statements\n",
    "else:\n",
    "    statements"
   ]
  },
  {
   "cell_type": "code",
   "execution_count": 2,
   "id": "8ad4317a",
   "metadata": {},
   "outputs": [],
   "source": [
    "# i/p: 7\n",
    "# o/p: odd\n",
    "\n",
    "# i/p: 6\n",
    "# o/p: even"
   ]
  },
  {
   "cell_type": "code",
   "execution_count": 3,
   "id": "43f7cd30",
   "metadata": {},
   "outputs": [
    {
     "name": "stdout",
     "output_type": "stream",
     "text": [
      "5\n",
      "odd\n"
     ]
    }
   ],
   "source": [
    "num = int(input())\n",
    "if(num%2==0):\n",
    "    print(\"even\")\n",
    "else:\n",
    "    print(\"odd\")"
   ]
  },
  {
   "cell_type": "code",
   "execution_count": 4,
   "id": "9edd0e80",
   "metadata": {},
   "outputs": [],
   "source": [
    "# i/p: 5\n",
    "# o/p: postive\n",
    "\n",
    "# i/p: -6\n",
    "# o/p: negative"
   ]
  },
  {
   "cell_type": "code",
   "execution_count": null,
   "id": "7354fdee",
   "metadata": {},
   "outputs": [],
   "source": [
    "n1 = int(input())\n",
    "if(n1>0):\n",
    "    print(\"Positive\")\n",
    "else:\n",
    "    print(\"Negative\")"
   ]
  },
  {
   "cell_type": "code",
   "execution_count": null,
   "id": "82b50e5a",
   "metadata": {},
   "outputs": [],
   "source": [
    "# i/p: 56\n",
    "# o/p: 56 is divisible by 7\n",
    "n = int(input())\n",
    "if(n%7==0):\n",
    "    print(n,\"is divisible by 7\")\n",
    "else:\n",
    "    print(n,\"is not divisible by 7\")"
   ]
  },
  {
   "cell_type": "code",
   "execution_count": null,
   "id": "b7191091",
   "metadata": {},
   "outputs": [],
   "source": [
    "# 6\n",
    "# 7\n",
    "# 7 is big\n",
    "a,b=int(input()),int(input())\n",
    "if(a>b):\n",
    "    print(a,\"is big\")\n",
    "else:\n",
    "    print(b,\"is big\")"
   ]
  },
  {
   "cell_type": "code",
   "execution_count": null,
   "id": "2172d0e5",
   "metadata": {},
   "outputs": [],
   "source": [
    "a,b,c=int(input()),int(input()),int(input())\n",
    "if(a>b and a>c):\n",
    "    print(a,\"is big\")\n",
    "elif(b>c):\n",
    "    print(b,\"is big\")\n",
    "else:\n",
    "    print(c,\"is big\")"
   ]
  },
  {
   "cell_type": "code",
   "execution_count": null,
   "id": "ee9f14f7",
   "metadata": {},
   "outputs": [],
   "source": [
    "week=int(input())\n",
    "if(week==0):\n",
    "    print(\"sunday\")\n",
    "elif(week==1):\n",
    "    print(\"monday\")\n",
    "elif(week==2):\n",
    "    print(\"tuesday\")\n",
    "elif(week==3):\n",
    "    print(\"wednesday\")\n",
    "elif(week==4):\n",
    "    print(\"thursday\")\n",
    "elif(week==5):\n",
    "    print(\"friday\")\n",
    "elif(week==6):\n",
    "    print(\"saturday\")\n",
    "else:\n",
    "    print(\"Invaid input\")"
   ]
  },
  {
   "cell_type": "code",
   "execution_count": null,
   "id": "2bf0233f",
   "metadata": {},
   "outputs": [],
   "source": [
    "month=input('Enter any month name: ')\n",
    "days_30=[\"april\",\"june\",\"september\",\"november\"]\n",
    "days_31=[\"january\",\"march\",\"may\",\"july\",\"august\",\"october\",\"december\"]\n",
    "if(month in days_30):\n",
    "    print(month,\"has 30 days\")\n",
    "elif(month in days_31):\n",
    "    print(month,\"has 31 days\")\n",
    "elif(month==\"february\"):\n",
    "    print(month,\"has 28/29 days\")\n",
    "else:\n",
    "    print(\"Invalid Month\")"
   ]
  },
  {
   "cell_type": "code",
   "execution_count": null,
   "id": "394d4549",
   "metadata": {},
   "outputs": [],
   "source": [
    "num=int(input())\n",
    "if(num%2==0):\n",
    "    print(\"Even\")\n",
    "    if(num>10):\n",
    "        print(num**3)\n",
    "    else:\n",
    "        print(num**2)\n",
    "else  n :\n",
    "    print(\"Odd\")"
   ]
  },
  {
   "cell_type": "markdown",
   "id": "4e3a78cb",
   "metadata": {},
   "source": [
    "#### Looping statements\n",
    "- 1 complete iteration/rotation\n",
    "- In order to avoid the repetition of statements we will use loops\n",
    "- 2types of loops\n",
    "    1. for\n",
    "    2. while\n"
   ]
  },
  {
   "cell_type": "markdown",
   "id": "1c4bc472",
   "metadata": {},
   "source": [
    "#### For Loop\n",
    "- we will specify the both ranges in the loop itself\n",
    "- default incrementation is 1\n",
    "- 2 syntaxes for **for loop**\n",
    "    1. for iterator in range(len(iterable)):\n",
    "        - statements goes here\n",
    "    2. for iterator in iterable:\n",
    "        - statements"
   ]
  },
  {
   "cell_type": "code",
   "execution_count": null,
   "id": "cc78eb87",
   "metadata": {},
   "outputs": [],
   "source": [
    "# if you want to print your name 10 times\n",
    "print('hi')\n",
    "print('hi')\n",
    "print('hi')"
   ]
  },
  {
   "cell_type": "code",
   "execution_count": null,
   "id": "df60a94a",
   "metadata": {},
   "outputs": [],
   "source": [
    "val=range(10,100)\n",
    "val"
   ]
  },
  {
   "cell_type": "code",
   "execution_count": null,
   "id": "dd8c904c",
   "metadata": {},
   "outputs": [],
   "source": [
    "range(10)# 0 1 2 3 4 5 6 7 8 9 "
   ]
  },
  {
   "cell_type": "markdown",
   "id": "50875875",
   "metadata": {},
   "source": [
    "range(start,stop,step_count) #"
   ]
  },
  {
   "cell_type": "code",
   "execution_count": null,
   "id": "2632f233",
   "metadata": {},
   "outputs": [],
   "source": [
    "for val in range(10):\n",
    "    print(val)"
   ]
  },
  {
   "cell_type": "code",
   "execution_count": null,
   "id": "8fcb7f51",
   "metadata": {},
   "outputs": [],
   "source": [
    "for val in range(20,26):\n",
    "    #21,22,23,24,25\n",
    "    print(val,end=\" \")"
   ]
  },
  {
   "cell_type": "code",
   "execution_count": null,
   "id": "856ad8a5",
   "metadata": {},
   "outputs": [],
   "source": [
    "print(10*'jyoo',sep=' ')#single data"
   ]
  },
  {
   "cell_type": "code",
   "execution_count": null,
   "id": "5df11b47",
   "metadata": {},
   "outputs": [],
   "source": [
    "print(*'jyo',sep=',')"
   ]
  },
  {
   "cell_type": "code",
   "execution_count": null,
   "id": "084af07b",
   "metadata": {},
   "outputs": [],
   "source": [
    "name=10*'jyo'\n",
    "for item in name:\n",
    "    print(item,sep=',')"
   ]
  },
  {
   "cell_type": "code",
   "execution_count": null,
   "id": "354d7c3c",
   "metadata": {},
   "outputs": [],
   "source": [
    "for dig in range(1,100,7):\n",
    "    print(dig,end=' ')"
   ]
  },
  {
   "cell_type": "code",
   "execution_count": null,
   "id": "1af3b2c8",
   "metadata": {},
   "outputs": [],
   "source": [
    "for val in range(20,5,-1):\n",
    "    print(val,end=\" \")"
   ]
  },
  {
   "cell_type": "code",
   "execution_count": null,
   "id": "4100138f",
   "metadata": {},
   "outputs": [],
   "source": [
    "for dig in range(int(input()),int(input())):\n",
    "    print(dig,end=\" \")"
   ]
  },
  {
   "cell_type": "code",
   "execution_count": null,
   "id": "511f4bdf",
   "metadata": {},
   "outputs": [],
   "source": [
    "#even no.s \n",
    "n=int(input())\n",
    "if n%2==0:\n",
    "    print('even')\n",
    "else:\n",
    "    print('odd')"
   ]
  },
  {
   "cell_type": "code",
   "execution_count": null,
   "id": "34aeaead",
   "metadata": {},
   "outputs": [],
   "source": [
    "for val in range(int(input()),int(input())):\n",
    "    if val%2==0:\n",
    "        print(val,end=\" \")"
   ]
  },
  {
   "cell_type": "code",
   "execution_count": null,
   "id": "f106be9c",
   "metadata": {},
   "outputs": [],
   "source": [
    "#40,25-->even values\n",
    "for dig in range(40,25,-1):\n",
    "    print(dig)"
   ]
  },
  {
   "cell_type": "code",
   "execution_count": null,
   "id": "f2bb3bb6",
   "metadata": {},
   "outputs": [],
   "source": [
    "#print nth multiplication table\n",
    "n = int(input(\"enter a number\"))\n",
    "for i in range (1,11):\n",
    "    print(n,\"x\",i,\"=\",n*i)"
   ]
  },
  {
   "cell_type": "code",
   "execution_count": null,
   "id": "08782b3c",
   "metadata": {},
   "outputs": [],
   "source": [
    "#print nth multiplication table\n",
    "n = int(input(\"enter a number:\"))\n",
    "for i in range (11,0,-1):\n",
    "    print(n,\"x\",i,\"=\",n*i)"
   ]
  },
  {
   "cell_type": "code",
   "execution_count": null,
   "id": "1a0c98a8",
   "metadata": {},
   "outputs": [],
   "source": [
    "# factorial value of given number\n",
    "#n!=n*(n-1)*(n-2)*--(n-n-1)\n",
    "#5!=5*4*3*2*1\n",
    "val=int(input('number='))\n",
    "res=1\n",
    "for i in range(1,val+1):\n",
    "    res=res*i # res*=i\n",
    "print(\"factorial value is\",res)"
   ]
  },
  {
   "cell_type": "code",
   "execution_count": null,
   "id": "ca20a046",
   "metadata": {},
   "outputs": [],
   "source": [
    "val=int(input(\"enter n value:\"))\n",
    "fact=1\n",
    "for i in range(val,0,-1):\n",
    "    fact*=i\n",
    "print('factorial value is',fact)"
   ]
  },
  {
   "cell_type": "code",
   "execution_count": null,
   "id": "f66a0a9d",
   "metadata": {},
   "outputs": [],
   "source": [
    "for ch in 'ravi teja':\n",
    "    print(ch,end=\" \")"
   ]
  },
  {
   "cell_type": "code",
   "execution_count": null,
   "id": "83f38aa8",
   "metadata": {},
   "outputs": [],
   "source": [
    "name='jyothsna'\n",
    "for ix in range(len(name)):\n",
    "    print(name[ix])"
   ]
  },
  {
   "cell_type": "code",
   "execution_count": 2,
   "id": "f1eaef35",
   "metadata": {
    "collapsed": true
   },
   "outputs": [
    {
     "name": "stdout",
     "output_type": "stream",
     "text": [
      "7\n",
      "prime\n"
     ]
    }
   ],
   "source": [
    "#finding the factors of a number\n",
    "#10:1,2,5,10:1 to 10)10(--0)\n",
    "num=int(input())\n",
    "n=0\n",
    "for dig in range(1,num//2+1):\n",
    "    if num%dig==0:\n",
    "        n+=1\n",
    "if n==1:\n",
    "    print(\"prime\")\n",
    "else:\n",
    "    print(\"non prime\")\n"
   ]
  },
  {
   "cell_type": "code",
   "execution_count": null,
   "id": "a92d0dbc",
   "metadata": {},
   "outputs": [],
   "source": [
    "10:1 2 5 10-->4:3"
   ]
  },
  {
   "cell_type": "code",
   "execution_count": null,
   "id": "8fb73647",
   "metadata": {},
   "outputs": [],
   "source": [
    "n/2-->5:1,5"
   ]
  },
  {
   "cell_type": "code",
   "execution_count": null,
   "id": "07a2523e",
   "metadata": {},
   "outputs": [],
   "source": []
  }
 ],
 "metadata": {
  "kernelspec": {
   "display_name": "Python 3 (ipykernel)",
   "language": "python",
   "name": "python3"
  },
  "language_info": {
   "codemirror_mode": {
    "name": "ipython",
    "version": 3
   },
   "file_extension": ".py",
   "mimetype": "text/x-python",
   "name": "python",
   "nbconvert_exporter": "python",
   "pygments_lexer": "ipython3",
   "version": "3.9.7"
  }
 },
 "nbformat": 4,
 "nbformat_minor": 5
}
